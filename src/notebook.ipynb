{
 "cells": [
  {
   "cell_type": "markdown",
   "metadata": {},
   "source": [
    "#### Goals and Objectives"
   ]
  },
  {
   "cell_type": "markdown",
   "metadata": {},
   "source": [
    "Want to predict stock price valuations on a daily, weekly, monthly basis. We are given 2020 trading data and want to predict 2021 Q1 using that data. \n",
    "\n",
    "Recommend BUY, HOLD, SELL decisions while maximizing returns, minimizing losses, and minimizing HOLD periods.\n",
    "\n",
    "Evaluate on basis of capital returns and use Bollinger Bands to measure systems effectiveness"
   ]
  },
  {
   "cell_type": "markdown",
   "metadata": {},
   "source": [
    "#### Initial Thoughts"
   ]
  },
  {
   "cell_type": "markdown",
   "metadata": {},
   "source": [
    "Since we do not have the hourly data, we will most likely use the % change column as our marker for buy, sell, hold. % change represents the daily change in closing prices.\n",
    "\n",
    "Where a negative change means the closing price for that day is lower than it was yesterday, a positive change means it is higher than it was yesterday.\n",
    "\n",
    "We can use ARIMA (autoregressive integrated moving average) in a time series analysis after checking that it is non stationary as time series forecasting only works on non stationary time series.\n",
    "\n"
   ]
  },
  {
   "cell_type": "markdown",
   "metadata": {},
   "source": [
    "### EDA"
   ]
  },
  {
   "cell_type": "code",
   "execution_count": 1,
   "metadata": {},
   "outputs": [],
   "source": [
    "import pandas as pd\n",
    "import seaborn as sns\n",
    "import matplotlib.pyplot as plt\n",
    "from datetime import datetime\n",
    "import plotly.express as px\n",
    "import plotly.graph_objects as go\n",
    "import re\n",
    "%matplotlib inline"
   ]
  },
  {
   "cell_type": "code",
   "execution_count": 2,
   "metadata": {},
   "outputs": [],
   "source": [
    "stocks = pd.ExcelFile(\"../data/2020Q1Q2Q3Q4-2021Q1.xlsx\")"
   ]
  },
  {
   "cell_type": "markdown",
   "metadata": {},
   "source": [
    "#### Russia"
   ]
  },
  {
   "cell_type": "code",
   "execution_count": 3,
   "metadata": {},
   "outputs": [],
   "source": [
    "russia = pd.read_excel(stocks, 0)"
   ]
  },
  {
   "cell_type": "code",
   "execution_count": 4,
   "metadata": {},
   "outputs": [
    {
     "data": {
      "text/html": [
       "<div>\n",
       "<style scoped>\n",
       "    .dataframe tbody tr th:only-of-type {\n",
       "        vertical-align: middle;\n",
       "    }\n",
       "\n",
       "    .dataframe tbody tr th {\n",
       "        vertical-align: top;\n",
       "    }\n",
       "\n",
       "    .dataframe thead th {\n",
       "        text-align: right;\n",
       "    }\n",
       "</style>\n",
       "<table border=\"1\" class=\"dataframe\">\n",
       "  <thead>\n",
       "    <tr style=\"text-align: right;\">\n",
       "      <th></th>\n",
       "      <th>Date</th>\n",
       "      <th>Price</th>\n",
       "      <th>Open</th>\n",
       "      <th>High</th>\n",
       "      <th>Low</th>\n",
       "      <th>Vol.</th>\n",
       "      <th>Change %</th>\n",
       "    </tr>\n",
       "  </thead>\n",
       "  <tbody>\n",
       "    <tr>\n",
       "      <th>0</th>\n",
       "      <td>2021-03-31 00:00:00</td>\n",
       "      <td>291.02</td>\n",
       "      <td>294</td>\n",
       "      <td>294.42</td>\n",
       "      <td>290.26</td>\n",
       "      <td>47.00M</td>\n",
       "      <td>-0.0076</td>\n",
       "    </tr>\n",
       "    <tr>\n",
       "      <th>1</th>\n",
       "      <td>2021-03-30 00:00:00</td>\n",
       "      <td>293.25</td>\n",
       "      <td>294.86</td>\n",
       "      <td>295.72</td>\n",
       "      <td>291.5</td>\n",
       "      <td>38.81M</td>\n",
       "      <td>-0.0002</td>\n",
       "    </tr>\n",
       "    <tr>\n",
       "      <th>2</th>\n",
       "      <td>2021-03-29 00:00:00</td>\n",
       "      <td>293.3</td>\n",
       "      <td>289.72</td>\n",
       "      <td>294.09</td>\n",
       "      <td>289.26</td>\n",
       "      <td>43.68M</td>\n",
       "      <td>0.0071</td>\n",
       "    </tr>\n",
       "    <tr>\n",
       "      <th>3</th>\n",
       "      <td>2021-03-26 00:00:00</td>\n",
       "      <td>291.22</td>\n",
       "      <td>288.63</td>\n",
       "      <td>292.75</td>\n",
       "      <td>288.32</td>\n",
       "      <td>56.07M</td>\n",
       "      <td>0.0159</td>\n",
       "    </tr>\n",
       "    <tr>\n",
       "      <th>4</th>\n",
       "      <td>2021-03-25 00:00:00</td>\n",
       "      <td>286.66</td>\n",
       "      <td>286.5</td>\n",
       "      <td>287.03</td>\n",
       "      <td>283.85</td>\n",
       "      <td>35.22M</td>\n",
       "      <td>0.0030</td>\n",
       "    </tr>\n",
       "  </tbody>\n",
       "</table>\n",
       "</div>"
      ],
      "text/plain": [
       "                  Date   Price    Open    High     Low    Vol.  Change %\n",
       "0  2021-03-31 00:00:00  291.02     294  294.42  290.26  47.00M   -0.0076\n",
       "1  2021-03-30 00:00:00  293.25  294.86  295.72   291.5  38.81M   -0.0002\n",
       "2  2021-03-29 00:00:00   293.3  289.72  294.09  289.26  43.68M    0.0071\n",
       "3  2021-03-26 00:00:00  291.22  288.63  292.75  288.32  56.07M    0.0159\n",
       "4  2021-03-25 00:00:00  286.66   286.5  287.03  283.85  35.22M    0.0030"
      ]
     },
     "execution_count": 4,
     "metadata": {},
     "output_type": "execute_result"
    }
   ],
   "source": [
    "russia.head()"
   ]
  },
  {
   "cell_type": "code",
   "execution_count": 5,
   "metadata": {},
   "outputs": [],
   "source": [
    "russia = russia.drop(311)"
   ]
  },
  {
   "cell_type": "code",
   "execution_count": 6,
   "metadata": {},
   "outputs": [],
   "source": [
    "# reverse the list\n",
    "russia = russia[::-1]"
   ]
  },
  {
   "cell_type": "code",
   "execution_count": 7,
   "metadata": {},
   "outputs": [
    {
     "data": {
      "text/html": [
       "<div>\n",
       "<style scoped>\n",
       "    .dataframe tbody tr th:only-of-type {\n",
       "        vertical-align: middle;\n",
       "    }\n",
       "\n",
       "    .dataframe tbody tr th {\n",
       "        vertical-align: top;\n",
       "    }\n",
       "\n",
       "    .dataframe thead th {\n",
       "        text-align: right;\n",
       "    }\n",
       "</style>\n",
       "<table border=\"1\" class=\"dataframe\">\n",
       "  <thead>\n",
       "    <tr style=\"text-align: right;\">\n",
       "      <th></th>\n",
       "      <th>Date</th>\n",
       "      <th>Price</th>\n",
       "      <th>Open</th>\n",
       "      <th>High</th>\n",
       "      <th>Low</th>\n",
       "      <th>Vol.</th>\n",
       "      <th>Change %</th>\n",
       "    </tr>\n",
       "  </thead>\n",
       "  <tbody>\n",
       "    <tr>\n",
       "      <th>310</th>\n",
       "      <td>2020-01-03 00:00:00</td>\n",
       "      <td>255</td>\n",
       "      <td>255.99</td>\n",
       "      <td>258.19</td>\n",
       "      <td>253.7</td>\n",
       "      <td>35.85M</td>\n",
       "      <td>0.0010</td>\n",
       "    </tr>\n",
       "    <tr>\n",
       "      <th>309</th>\n",
       "      <td>2020-01-06 00:00:00</td>\n",
       "      <td>253.9</td>\n",
       "      <td>254.75</td>\n",
       "      <td>254.84</td>\n",
       "      <td>251.4</td>\n",
       "      <td>22.35M</td>\n",
       "      <td>-0.0043</td>\n",
       "    </tr>\n",
       "    <tr>\n",
       "      <th>308</th>\n",
       "      <td>2020-01-08 00:00:00</td>\n",
       "      <td>259.15</td>\n",
       "      <td>253.57</td>\n",
       "      <td>259.15</td>\n",
       "      <td>253.03</td>\n",
       "      <td>40.82M</td>\n",
       "      <td>0.0207</td>\n",
       "    </tr>\n",
       "    <tr>\n",
       "      <th>307</th>\n",
       "      <td>2020-01-09 00:00:00</td>\n",
       "      <td>257.99</td>\n",
       "      <td>259.4</td>\n",
       "      <td>261.76</td>\n",
       "      <td>257.01</td>\n",
       "      <td>38.33M</td>\n",
       "      <td>-0.0045</td>\n",
       "    </tr>\n",
       "    <tr>\n",
       "      <th>306</th>\n",
       "      <td>2020-01-10 00:00:00</td>\n",
       "      <td>258.19</td>\n",
       "      <td>257.86</td>\n",
       "      <td>259.25</td>\n",
       "      <td>256.88</td>\n",
       "      <td>18.85M</td>\n",
       "      <td>0.0008</td>\n",
       "    </tr>\n",
       "  </tbody>\n",
       "</table>\n",
       "</div>"
      ],
      "text/plain": [
       "                    Date   Price    Open    High     Low    Vol.  Change %\n",
       "310  2020-01-03 00:00:00     255  255.99  258.19   253.7  35.85M    0.0010\n",
       "309  2020-01-06 00:00:00   253.9  254.75  254.84   251.4  22.35M   -0.0043\n",
       "308  2020-01-08 00:00:00  259.15  253.57  259.15  253.03  40.82M    0.0207\n",
       "307  2020-01-09 00:00:00  257.99   259.4  261.76  257.01  38.33M   -0.0045\n",
       "306  2020-01-10 00:00:00  258.19  257.86  259.25  256.88  18.85M    0.0008"
      ]
     },
     "execution_count": 7,
     "metadata": {},
     "output_type": "execute_result"
    }
   ],
   "source": [
    "russia.head()"
   ]
  },
  {
   "cell_type": "code",
   "execution_count": 8,
   "metadata": {},
   "outputs": [],
   "source": [
    "date_2021 = datetime.strptime('2020-12-31', \"%Y-%m-%d\")\n",
    "russia_test = russia[russia['Date'] > date_2021]\n",
    "russia = russia[russia['Date'] <= date_2021]"
   ]
  },
  {
   "cell_type": "code",
   "execution_count": 9,
   "metadata": {},
   "outputs": [
    {
     "name": "stdout",
     "output_type": "stream",
     "text": [
      "(250, 7)\n",
      "(61, 7)\n"
     ]
    }
   ],
   "source": [
    "print(russia.shape)\n",
    "print(russia_test.shape)"
   ]
  },
  {
   "cell_type": "code",
   "execution_count": 10,
   "metadata": {},
   "outputs": [
    {
     "data": {
      "text/html": [
       "<div>\n",
       "<style scoped>\n",
       "    .dataframe tbody tr th:only-of-type {\n",
       "        vertical-align: middle;\n",
       "    }\n",
       "\n",
       "    .dataframe tbody tr th {\n",
       "        vertical-align: top;\n",
       "    }\n",
       "\n",
       "    .dataframe thead th {\n",
       "        text-align: right;\n",
       "    }\n",
       "</style>\n",
       "<table border=\"1\" class=\"dataframe\">\n",
       "  <thead>\n",
       "    <tr style=\"text-align: right;\">\n",
       "      <th></th>\n",
       "      <th>Date</th>\n",
       "      <th>Price</th>\n",
       "      <th>Open</th>\n",
       "      <th>High</th>\n",
       "      <th>Low</th>\n",
       "      <th>Vol.</th>\n",
       "      <th>Change %</th>\n",
       "    </tr>\n",
       "  </thead>\n",
       "  <tbody>\n",
       "    <tr>\n",
       "      <th>65</th>\n",
       "      <td>2020-12-24 00:00:00</td>\n",
       "      <td>269.32</td>\n",
       "      <td>271.98</td>\n",
       "      <td>272.82</td>\n",
       "      <td>267.13</td>\n",
       "      <td>42.61M</td>\n",
       "      <td>-0.0029</td>\n",
       "    </tr>\n",
       "    <tr>\n",
       "      <th>64</th>\n",
       "      <td>2020-12-25 00:00:00</td>\n",
       "      <td>270.64</td>\n",
       "      <td>269.97</td>\n",
       "      <td>271</td>\n",
       "      <td>268.28</td>\n",
       "      <td>11.99M</td>\n",
       "      <td>0.0049</td>\n",
       "    </tr>\n",
       "    <tr>\n",
       "      <th>63</th>\n",
       "      <td>2020-12-28 00:00:00</td>\n",
       "      <td>274.7</td>\n",
       "      <td>270.9</td>\n",
       "      <td>275.19</td>\n",
       "      <td>269.73</td>\n",
       "      <td>39.04M</td>\n",
       "      <td>0.0150</td>\n",
       "    </tr>\n",
       "    <tr>\n",
       "      <th>62</th>\n",
       "      <td>2020-12-29 00:00:00</td>\n",
       "      <td>272</td>\n",
       "      <td>275.91</td>\n",
       "      <td>276.43</td>\n",
       "      <td>271.26</td>\n",
       "      <td>39.02M</td>\n",
       "      <td>-0.0098</td>\n",
       "    </tr>\n",
       "    <tr>\n",
       "      <th>61</th>\n",
       "      <td>2020-12-30 00:00:00</td>\n",
       "      <td>271.65</td>\n",
       "      <td>272.49</td>\n",
       "      <td>274.24</td>\n",
       "      <td>270.12</td>\n",
       "      <td>31.53M</td>\n",
       "      <td>-0.0013</td>\n",
       "    </tr>\n",
       "  </tbody>\n",
       "</table>\n",
       "</div>"
      ],
      "text/plain": [
       "                   Date   Price    Open    High     Low    Vol.  Change %\n",
       "65  2020-12-24 00:00:00  269.32  271.98  272.82  267.13  42.61M   -0.0029\n",
       "64  2020-12-25 00:00:00  270.64  269.97     271  268.28  11.99M    0.0049\n",
       "63  2020-12-28 00:00:00   274.7   270.9  275.19  269.73  39.04M    0.0150\n",
       "62  2020-12-29 00:00:00     272  275.91  276.43  271.26  39.02M   -0.0098\n",
       "61  2020-12-30 00:00:00  271.65  272.49  274.24  270.12  31.53M   -0.0013"
      ]
     },
     "execution_count": 10,
     "metadata": {},
     "output_type": "execute_result"
    }
   ],
   "source": [
    "russia.tail()"
   ]
  },
  {
   "cell_type": "code",
   "execution_count": 11,
   "metadata": {},
   "outputs": [
    {
     "data": {
      "text/plain": [
       "(array([18262., 18322., 18383., 18444., 18506., 18567., 18628.]),\n",
       " [Text(0, 0, ''),\n",
       "  Text(0, 0, ''),\n",
       "  Text(0, 0, ''),\n",
       "  Text(0, 0, ''),\n",
       "  Text(0, 0, ''),\n",
       "  Text(0, 0, ''),\n",
       "  Text(0, 0, '')])"
      ]
     },
     "execution_count": 11,
     "metadata": {},
     "output_type": "execute_result"
    },
    {
     "data": {
      "image/png": "[encoded data removed]",
      "text/plain": [
       "<Figure size 640x480 with 1 Axes>"
      ]
     },
     "metadata": {},
     "output_type": "display_data"
    }
   ],
   "source": [
    "sns.lineplot(data=russia, x='Date', y ='Price')\n",
    "plt.title('SBER 2020 Daily Closing Price Data')\n",
    "plt.xticks(rotation=45)"
   ]
  },
  {
   "cell_type": "code",
   "execution_count": 12,
   "metadata": {},
   "outputs": [
    {
     "data": {
      "application/vnd.plotly.v1+json": {
       "config": {
        "plotlyServerURL": "https://plot.ly"
       },
       "data": [
        {
         "close": [
          255,
          253.9,
          259.15,
          257.99,
          258.19,
          262.4,
          259.05,
          256.31,
          257.51,
          262.5,
          266.28,
          268.06,
          266.54,
          263.73,
          265.49,
          255.32,
          257.7,
          259.94,
          257.31,
          252.2,
          253.99,
          255.4,
          255.2,
          252.11,
          254.3,
          252.26,
          254.5,
          254.5,
          253.89,
          251.75,
          251.36,
          249.2,
          249.7,
          250.15,
          250.8,
          245.19,
          250.8,
          242.88,
          233.36,
          228.17,
          236.63,
          235.27,
          232.33,
          219.99,
          201.2,
          194.53,
          175.91,
          198.6,
          195.85,
          184.01,
          174.27,
          189.51,
          195.69,
          183.37,
          192.64,
          188.08,
          188.07,
          180.38,
          183,
          187.21,
          184.78,
          186.95,
          185.64,
          190.7,
          197.63,
          200.29,
          203.61,
          201.99,
          198.26,
          197.37,
          186.07,
          188.5,
          191.8,
          189.32,
          186.05,
          190.2,
          190.94,
          188.91,
          188.9,
          192.8,
          195.8,
          197.25,
          193.69,
          194.75,
          195.7,
          195.51,
          196.02,
          191.4,
          187.31,
          183.81,
          183.85,
          188.93,
          189,
          193.98,
          192.4,
          188.9,
          191,
          194,
          198.51,
          205,
          200.5,
          203.66,
          212,
          221.5,
          213.1,
          219.1,
          220.3,
          217.23,
          212.53,
          208.35,
          207.32,
          207.76,
          208.14,
          203.77,
          207,
          206.4,
          207.3,
          206.92,
          203.15,
          205.8,
          203.22,
          209.6,
          210.95,
          214.61,
          210.53,
          210.97,
          209.11,
          212.28,
          208.39,
          209.5,
          211.09,
          211.35,
          210.81,
          213.89,
          215.73,
          216.71,
          215.41,
          215.97,
          216.9,
          215.53,
          219.18,
          218.15,
          221.57,
          226.72,
          227.16,
          226.4,
          226,
          227.28,
          225.99,
          232.65,
          242.4,
          241.39,
          239.99,
          237.8,
          236.3,
          239.4,
          232.48,
          231.22,
          231.81,
          228.08,
          227.8,
          226.23,
          226.3,
          226.1,
          227.64,
          222.57,
          218.32,
          222.21,
          221.32,
          217.68,
          218,
          220.6,
          221.07,
          227.37,
          231.5,
          231.06,
          231.46,
          230.3,
          226.25,
          229.88,
          228.5,
          228.17,
          228.24,
          228.63,
          225.48,
          229.14,
          227.23,
          208.8,
          208.89,
          211.18,
          210.6,
          207.97,
          205.38,
          206.18,
          205.03,
          207.83,
          203.85,
          201.17,
          202.78,
          209.54,
          210.33,
          210.21,
          214.5,
          211.1,
          207.64,
          204.73,
          205.58,
          200.99,
          204.5,
          209.2,
          216.7,
          217.5,
          228.05,
          236.1,
          244.2,
          242.08,
          242.99,
          247.99,
          245.7,
          242.71,
          240.27,
          239.42,
          239.7,
          247.33,
          251.91,
          250.1,
          251.59,
          249.63,
          260.81,
          264.06,
          263.14,
          270,
          274.36,
          275.49,
          276.89,
          282.2,
          283.73,
          279.95,
          278.7,
          278.35,
          278.5,
          270.16,
          261.79,
          262.04,
          270.1,
          269.32,
          270.64,
          274.7,
          272,
          271.65
         ],
         "high": [
          258.19,
          254.84,
          259.15,
          261.76,
          259.25,
          262.4,
          263.22,
          258.91,
          259.51,
          262.82,
          266.97,
          268.9,
          270.8,
          266.89,
          267.5,
          262.1,
          258.84,
          261.57,
          258.69,
          259.2,
          254.96,
          257.38,
          257.66,
          258,
          254.3,
          255.73,
          259.77,
          255.49,
          255.18,
          254.4,
          253.1,
          250.44,
          250.68,
          252.17,
          251.49,
          249,
          251.21,
          248.98,
          239,
          241,
          239,
          236.7,
          238.72,
          229.2,
          212.74,
          204.33,
          187.87,
          199.52,
          196.7,
          204.78,
          182.2,
          190.15,
          201.86,
          190.99,
          195,
          201,
          191.2,
          188.97,
          183.2,
          188.77,
          185.47,
          189.9,
          187.49,
          192.02,
          200.54,
          200.29,
          205.44,
          202.75,
          202.16,
          202.85,
          196.25,
          191.67,
          192.7,
          192.23,
          187.5,
          191.94,
          192.5,
          191.65,
          190.5,
          194.22,
          195.8,
          199.7,
          195.68,
          196.46,
          197.23,
          198.15,
          196.25,
          198,
          190.6,
          188.2,
          186.78,
          190,
          192.55,
          193.98,
          196.31,
          191.25,
          191.31,
          196.1,
          198.97,
          205,
          204.4,
          205.93,
          212,
          221.92,
          221,
          219.93,
          223.15,
          221.88,
          217.58,
          209.24,
          207.85,
          212.19,
          210.35,
          208.1,
          209.2,
          207.95,
          209.74,
          207,
          207.5,
          205.86,
          206,
          210.15,
          211.97,
          216.79,
          214.23,
          212.29,
          211.7,
          212.6,
          214.2,
          209.58,
          211.8,
          212.6,
          212.18,
          214.48,
          219.1,
          217.65,
          219.28,
          217.41,
          218.38,
          217.42,
          219.18,
          218.88,
          221.98,
          228.36,
          228.85,
          229.17,
          227.43,
          227.6,
          228.7,
          234.73,
          242.5,
          244.04,
          242.22,
          242.35,
          239.83,
          240.75,
          238.51,
          236.5,
          233.7,
          232.97,
          229.4,
          229.98,
          228.1,
          229.71,
          227.97,
          228.75,
          224.23,
          222.5,
          224.2,
          222.48,
          218.88,
          222.15,
          223.15,
          227.54,
          231.95,
          232.6,
          231.75,
          232.59,
          230.07,
          230.28,
          232.1,
          231.1,
          229.3,
          229.55,
          228.88,
          230.75,
          229.9,
          211.39,
          210.69,
          212.99,
          212.66,
          211.43,
          208.96,
          208.49,
          207.64,
          208,
          207.57,
          204.25,
          204,
          209.76,
          213.25,
          211.53,
          214.73,
          214.45,
          212.29,
          206.94,
          207.33,
          204.84,
          204.59,
          211.11,
          218.65,
          218.29,
          231.3,
          237.6,
          245.98,
          245.72,
          244.14,
          248.73,
          249.84,
          247.23,
          243.49,
          240.77,
          243.87,
          247.85,
          252.2,
          252.88,
          252.26,
          251,
          260.99,
          264.99,
          264.63,
          270.84,
          276.13,
          276.66,
          279.42,
          282.2,
          284.6,
          287.74,
          283.76,
          280.84,
          285.16,
          277.4,
          267.34,
          267.42,
          270.29,
          272.82,
          271,
          275.19,
          276.43,
          274.24
         ],
         "low": [
          253.7,
          251.4,
          253.03,
          257.01,
          256.88,
          257.15,
          258.62,
          254.21,
          256.1,
          257.75,
          261.8,
          263.02,
          265.5,
          262.24,
          264.21,
          255.32,
          254.1,
          257.61,
          255.27,
          252.17,
          251.1,
          252.9,
          253.14,
          251.86,
          248.73,
          252.07,
          253,
          252.31,
          252.5,
          251.4,
          250.13,
          247.57,
          247.95,
          249.13,
          247.24,
          245.17,
          243.22,
          242,
          231,
          218.86,
          232.28,
          232.62,
          230.64,
          216.67,
          184.86,
          192.05,
          173.14,
          174.3,
          186,
          183.8,
          172.15,
          173.06,
          192.05,
          182.1,
          189.1,
          182.32,
          182.8,
          180.17,
          174.9,
          184.25,
          182,
          182,
          184.28,
          186.42,
          193.02,
          195.12,
          199.3,
          200.7,
          197.32,
          196.1,
          186.06,
          183.53,
          188.28,
          187.31,
          183.65,
          184.5,
          188.68,
          187.7,
          188.43,
          188.17,
          192.86,
          195.46,
          193.26,
          194,
          194.3,
          195.06,
          194.6,
          191.2,
          186.66,
          183.5,
          183.33,
          185.4,
          186.8,
          186.6,
          191.5,
          188.6,
          188.8,
          192.11,
          193.32,
          198.4,
          199.17,
          201.81,
          204,
          213.51,
          212.55,
          213.6,
          217.45,
          215.44,
          211.82,
          206.01,
          202.3,
          207.52,
          206.94,
          202.72,
          204.55,
          204.28,
          206.43,
          200.75,
          201.76,
          200.97,
          202.36,
          204.28,
          209,
          212.94,
          210.51,
          209.3,
          208.1,
          206.57,
          208.11,
          205.7,
          207.65,
          208.63,
          209.86,
          209.08,
          214.38,
          213.56,
          215,
          197.73,
          215.15,
          215.25,
          215.63,
          215.34,
          217.43,
          221.3,
          225.63,
          224.31,
          224.35,
          224.46,
          224.51,
          226.21,
          233.03,
          238.57,
          238.47,
          234.5,
          235.69,
          235.19,
          230.33,
          227.35,
          230.2,
          226.9,
          224.7,
          225.6,
          225.19,
          225,
          226.01,
          220.85,
          218,
          216.75,
          220.5,
          216.29,
          216.8,
          215.79,
          219.75,
          222.13,
          227.39,
          230.15,
          228.57,
          229,
          223.49,
          225.46,
          227.61,
          225.75,
          226.25,
          227.35,
          223.1,
          223.25,
          226.86,
          206.5,
          207.72,
          208.35,
          209.03,
          207.26,
          204.4,
          204.57,
          204.77,
          204.78,
          201.95,
          200.5,
          201.55,
          202.5,
          208.9,
          207.84,
          209.15,
          210.5,
          206.66,
          202.3,
          203.64,
          200.61,
          196.15,
          203.8,
          211.43,
          213,
          218.7,
          226.27,
          236.89,
          240.22,
          238.62,
          244,
          243.41,
          242.59,
          237.34,
          236.57,
          238.52,
          239.57,
          246.55,
          247.44,
          248.03,
          245.98,
          249.8,
          258.8,
          260.85,
          264.5,
          268.1,
          271.52,
          275.87,
          275.2,
          279.78,
          277.1,
          276.07,
          276.14,
          276.54,
          268.52,
          259.7,
          257.05,
          260.22,
          267.13,
          268.28,
          269.73,
          271.26,
          270.12
         ],
         "open": [
          255.99,
          254.75,
          253.57,
          259.4,
          257.86,
          258.3,
          262.5,
          258.49,
          257.11,
          258.2,
          263.2,
          265.5,
          268.72,
          264.64,
          264.5,
          261,
          257,
          258.4,
          258,
          258.5,
          251.8,
          255.3,
          255.89,
          256.5,
          253.1,
          254.55,
          253.75,
          255.4,
          253.62,
          254.4,
          252.5,
          250.07,
          250.37,
          250.03,
          248.35,
          247.98,
          244.75,
          247.5,
          235,
          238.93,
          233,
          234.13,
          237,
          228,
          197.99,
          202,
          185.15,
          175,
          194,
          195,
          179,
          178.5,
          198.62,
          188,
          193.3,
          196.38,
          187.69,
          188.05,
          177,
          186,
          183.2,
          188.3,
          186.6,
          187.52,
          193.02,
          196.02,
          202.4,
          201.85,
          202,
          199.99,
          196,
          187.22,
          192.5,
          190.6,
          185.54,
          185.01,
          191.99,
          189.73,
          189.98,
          188.5,
          194.46,
          196.51,
          195.68,
          195.51,
          195,
          196,
          196,
          193.3,
          190.05,
          186.5,
          186.13,
          186.33,
          190.37,
          188.49,
          194,
          190.97,
          189.62,
          193,
          194,
          199.31,
          204.11,
          203.1,
          204.67,
          214,
          220.67,
          215.13,
          219.8,
          221.13,
          217,
          208.91,
          205.07,
          210.28,
          208.52,
          207.8,
          205.44,
          206.7,
          207.7,
          201,
          206.97,
          201,
          205.7,
          205,
          210,
          212.97,
          213,
          210.8,
          210.7,
          207.51,
          213.87,
          208.38,
          210.29,
          209.66,
          211.69,
          210.27,
          215,
          215.98,
          217.5,
          214.8,
          216.7,
          216.81,
          215.89,
          218.71,
          218.19,
          222.27,
          227.39,
          228.15,
          226.75,
          225,
          227.96,
          226.43,
          233.12,
          242.2,
          242,
          240.8,
          236.88,
          235.85,
          238.44,
          233.3,
          232.5,
          232.3,
          228.3,
          227.87,
          227,
          227,
          226.7,
          228.56,
          221.67,
          218,
          221.5,
          222,
          217.01,
          218.24,
          221.46,
          222.31,
          228.22,
          231.72,
          229.1,
          232,
          229.88,
          226,
          230.02,
          227.63,
          229,
          228.79,
          228.88,
          224.5,
          229.08,
          210.4,
          209.65,
          209,
          211.3,
          211.2,
          208.47,
          205.97,
          205.92,
          205.06,
          207.46,
          204.02,
          201.55,
          203,
          210.04,
          209.58,
          210,
          213.4,
          211.5,
          206.94,
          206.5,
          203.62,
          200.45,
          205.7,
          214.4,
          215.8,
          220,
          227,
          237,
          243.31,
          242.01,
          244.14,
          248,
          245.1,
          242.5,
          239.58,
          240.45,
          241.65,
          248,
          252.3,
          250.3,
          249.72,
          250.75,
          260.05,
          264.5,
          264.63,
          269,
          274.5,
          276.4,
          276.55,
          282.5,
          285.01,
          278.53,
          278,
          279.81,
          277.22,
          266.2,
          259.55,
          262.25,
          271.98,
          269.97,
          270.9,
          275.91,
          272.49
         ],
         "type": "candlestick",
         "x": [
          "2020-01-03T00:00:00",
          "2020-01-06T00:00:00",
          "2020-01-08T00:00:00",
          "2020-01-09T00:00:00",
          "2020-01-10T00:00:00",
          "2020-01-13T00:00:00",
          "2020-01-14T00:00:00",
          "2020-01-15T00:00:00",
          "2020-01-16T00:00:00",
          "2020-01-17T00:00:00",
          "2020-01-20T00:00:00",
          "2020-01-21T00:00:00",
          "2020-01-22T00:00:00",
          "2020-01-23T00:00:00",
          "2020-01-24T00:00:00",
          "2020-01-27T00:00:00",
          "2020-01-28T00:00:00",
          "2020-01-29T00:00:00",
          "2020-01-30T00:00:00",
          "2020-01-31T00:00:00",
          "2020-02-03T00:00:00",
          "2020-02-04T00:00:00",
          "2020-02-05T00:00:00",
          "2020-02-06T00:00:00",
          "2020-02-07T00:00:00",
          "2020-02-10T00:00:00",
          "2020-02-11T00:00:00",
          "2020-02-12T00:00:00",
          "2020-02-13T00:00:00",
          "2020-02-14T00:00:00",
          "2020-02-17T00:00:00",
          "2020-02-18T00:00:00",
          "2020-02-19T00:00:00",
          "2020-02-20T00:00:00",
          "2020-02-21T00:00:00",
          "2020-02-25T00:00:00",
          "2020-02-26T00:00:00",
          "2020-02-27T00:00:00",
          "2020-02-28T00:00:00",
          "2020-03-02T00:00:00",
          "2020-03-03T00:00:00",
          "2020-03-04T00:00:00",
          "2020-03-05T00:00:00",
          "2020-03-06T00:00:00",
          "2020-03-10T00:00:00",
          "2020-03-11T00:00:00",
          "2020-03-12T00:00:00",
          "2020-03-13T00:00:00",
          "2020-03-16T00:00:00",
          "2020-03-17T00:00:00",
          "2020-03-18T00:00:00",
          "2020-03-19T00:00:00",
          "2020-03-20T00:00:00",
          "2020-03-23T00:00:00",
          "2020-03-24T00:00:00",
          "2020-03-25T00:00:00",
          "2020-03-26T00:00:00",
          "2020-03-27T00:00:00",
          "2020-03-30T00:00:00",
          "2020-03-31T00:00:00",
          "2020-04-01T00:00:00",
          "2020-04-02T00:00:00",
          "2020-04-03T00:00:00",
          "2020-04-06T00:00:00",
          "2020-04-07T00:00:00",
          "2020-04-08T00:00:00",
          "2020-04-09T00:00:00",
          "2020-04-10T00:00:00",
          "2020-04-13T00:00:00",
          "2020-04-14T00:00:00",
          "2020-04-15T00:00:00",
          "2020-04-16T00:00:00",
          "2020-04-17T00:00:00",
          "2020-04-20T00:00:00",
          "2020-04-21T00:00:00",
          "2020-04-22T00:00:00",
          "2020-04-23T00:00:00",
          "2020-04-24T00:00:00",
          "2020-04-27T00:00:00",
          "2020-04-28T00:00:00",
          "2020-04-29T00:00:00",
          "2020-04-30T00:00:00",
          "2020-05-04T00:00:00",
          "2020-05-05T00:00:00",
          "2020-05-06T00:00:00",
          "2020-05-07T00:00:00",
          "2020-05-08T00:00:00",
          "2020-05-12T00:00:00",
          "2020-05-13T00:00:00",
          "2020-05-14T00:00:00",
          "2020-05-15T00:00:00",
          "2020-05-18T00:00:00",
          "2020-05-19T00:00:00",
          "2020-05-20T00:00:00",
          "2020-05-21T00:00:00",
          "2020-05-22T00:00:00",
          "2020-05-25T00:00:00",
          "2020-05-26T00:00:00",
          "2020-05-27T00:00:00",
          "2020-05-28T00:00:00",
          "2020-05-29T00:00:00",
          "2020-06-01T00:00:00",
          "2020-06-02T00:00:00",
          "2020-06-03T00:00:00",
          "2020-06-04T00:00:00",
          "2020-06-05T00:00:00",
          "2020-06-08T00:00:00",
          "2020-06-09T00:00:00",
          "2020-06-10T00:00:00",
          "2020-06-11T00:00:00",
          "2020-06-15T00:00:00",
          "2020-06-16T00:00:00",
          "2020-06-17T00:00:00",
          "2020-06-18T00:00:00",
          "2020-06-19T00:00:00",
          "2020-06-22T00:00:00",
          "2020-06-23T00:00:00",
          "2020-06-25T00:00:00",
          "2020-06-26T00:00:00",
          "2020-06-29T00:00:00",
          "2020-06-30T00:00:00",
          "2020-07-02T00:00:00",
          "2020-07-03T00:00:00",
          "2020-07-06T00:00:00",
          "2020-07-07T00:00:00",
          "2020-07-08T00:00:00",
          "2020-07-09T00:00:00",
          "2020-07-10T00:00:00",
          "2020-07-13T00:00:00",
          "2020-07-14T00:00:00",
          "2020-07-15T00:00:00",
          "2020-07-16T00:00:00",
          "2020-07-17T00:00:00",
          "2020-07-20T00:00:00",
          "2020-07-21T00:00:00",
          "2020-07-22T00:00:00",
          "2020-07-23T00:00:00",
          "2020-07-24T00:00:00",
          "2020-07-27T00:00:00",
          "2020-07-28T00:00:00",
          "2020-07-29T00:00:00",
          "2020-07-30T00:00:00",
          "2020-07-31T00:00:00",
          "2020-08-03T00:00:00",
          "2020-08-04T00:00:00",
          "2020-08-05T00:00:00",
          "2020-08-06T00:00:00",
          "2020-08-07T00:00:00",
          "2020-08-10T00:00:00",
          "2020-08-11T00:00:00",
          "2020-08-12T00:00:00",
          "2020-08-13T00:00:00",
          "2020-08-14T00:00:00",
          "2020-08-17T00:00:00",
          "2020-08-18T00:00:00",
          "2020-08-19T00:00:00",
          "2020-08-20T00:00:00",
          "2020-08-21T00:00:00",
          "2020-08-24T00:00:00",
          "2020-08-25T00:00:00",
          "2020-08-26T00:00:00",
          "2020-08-27T00:00:00",
          "2020-08-28T00:00:00",
          "2020-08-31T00:00:00",
          "2020-09-01T00:00:00",
          "2020-09-02T00:00:00",
          "2020-09-03T00:00:00",
          "2020-09-04T00:00:00",
          "2020-09-07T00:00:00",
          "2020-09-08T00:00:00",
          "2020-09-09T00:00:00",
          "2020-09-10T00:00:00",
          "2020-09-11T00:00:00",
          "2020-09-14T00:00:00",
          "2020-09-15T00:00:00",
          "2020-09-16T00:00:00",
          "2020-09-17T00:00:00",
          "2020-09-18T00:00:00",
          "2020-09-21T00:00:00",
          "2020-09-22T00:00:00",
          "2020-09-23T00:00:00",
          "2020-09-24T00:00:00",
          "2020-09-25T00:00:00",
          "2020-09-28T00:00:00",
          "2020-09-29T00:00:00",
          "2020-09-30T00:00:00",
          "2020-10-01T00:00:00",
          "2020-10-02T00:00:00",
          "2020-10-05T00:00:00",
          "2020-10-06T00:00:00",
          "2020-10-07T00:00:00",
          "2020-10-08T00:00:00",
          "2020-10-09T00:00:00",
          "2020-10-12T00:00:00",
          "2020-10-13T00:00:00",
          "2020-10-14T00:00:00",
          "2020-10-15T00:00:00",
          "2020-10-16T00:00:00",
          "2020-10-19T00:00:00",
          "2020-10-20T00:00:00",
          "2020-10-21T00:00:00",
          "2020-10-22T00:00:00",
          "2020-10-23T00:00:00",
          "2020-10-26T00:00:00",
          "2020-10-27T00:00:00",
          "2020-10-28T00:00:00",
          "2020-10-29T00:00:00",
          "2020-10-30T00:00:00",
          "2020-11-02T00:00:00",
          "2020-11-03T00:00:00",
          "2020-11-05T00:00:00",
          "2020-11-06T00:00:00",
          "2020-11-09T00:00:00",
          "2020-11-10T00:00:00",
          "2020-11-11T00:00:00",
          "2020-11-12T00:00:00",
          "2020-11-13T00:00:00",
          "2020-11-16T00:00:00",
          "2020-11-17T00:00:00",
          "2020-11-18T00:00:00",
          "2020-11-19T00:00:00",
          "2020-11-20T00:00:00",
          "2020-11-23T00:00:00",
          "2020-11-24T00:00:00",
          "2020-11-25T00:00:00",
          "2020-11-26T00:00:00",
          "2020-11-27T00:00:00",
          "2020-11-30T00:00:00",
          "2020-12-01T00:00:00",
          "2020-12-02T00:00:00",
          "2020-12-03T00:00:00",
          "2020-12-04T00:00:00",
          "2020-12-07T00:00:00",
          "2020-12-08T00:00:00",
          "2020-12-09T00:00:00",
          "2020-12-10T00:00:00",
          "2020-12-11T00:00:00",
          "2020-12-14T00:00:00",
          "2020-12-15T00:00:00",
          "2020-12-16T00:00:00",
          "2020-12-17T00:00:00",
          "2020-12-18T00:00:00",
          "2020-12-21T00:00:00",
          "2020-12-22T00:00:00",
          "2020-12-23T00:00:00",
          "2020-12-24T00:00:00",
          "2020-12-25T00:00:00",
          "2020-12-28T00:00:00",
          "2020-12-29T00:00:00",
          "2020-12-30T00:00:00"
         ]
        }
       ],
       "layout": {
        "template": {
         "data": {
          "bar": [
           {
            "error_x": {
             "color": "#2a3f5f"
            },
            "error_y": {
             "color": "#2a3f5f"
            },
            "marker": {
             "line": {
              "color": "#E5ECF6",
              "width": 0.5
             },
             "pattern": {
              "fillmode": "overlay",
              "size": 10,
              "solidity": 0.2
             }
            },
            "type": "bar"
           }
          ],
          "barpolar": [
           {
            "marker": {
             "line": {
              "color": "#E5ECF6",
              "width": 0.5
             },
             "pattern": {
              "fillmode": "overlay",
              "size": 10,
              "solidity": 0.2
             }
            },
            "type": "barpolar"
           }
          ],
          "carpet": [
           {
            "aaxis": {
             "endlinecolor": "#2a3f5f",
             "gridcolor": "white",
             "linecolor": "white",
             "minorgridcolor": "white",
             "startlinecolor": "#2a3f5f"
            },
            "baxis": {
             "endlinecolor": "#2a3f5f",
             "gridcolor": "white",
             "linecolor": "white",
             "minorgridcolor": "white",
             "startlinecolor": "#2a3f5f"
            },
            "type": "carpet"
           }
          ],
          "choropleth": [
           {
            "colorbar": {
             "outlinewidth": 0,
             "ticks": ""
            },
            "type": "choropleth"
           }
          ],
          "contour": [
           {
            "colorbar": {
             "outlinewidth": 0,
             "ticks": ""
            },
            "colorscale": [
             [
              0,
              "#0d0887"
             ],
             [
              0.1111111111111111,
              "#46039f"
             ],
             [
              0.2222222222222222,
              "#7201a8"
             ],
             [
              0.3333333333333333,
              "#9c179e"
             ],
             [
              0.4444444444444444,
              "#bd3786"
             ],
             [
              0.5555555555555556,
              "#d8576b"
             ],
             [
              0.6666666666666666,
              "#ed7953"
             ],
             [
              0.7777777777777778,
              "#fb9f3a"
             ],
             [
              0.8888888888888888,
              "#fdca26"
             ],
             [
              1,
              "#f0f921"
             ]
            ],
            "type": "contour"
           }
          ],
          "contourcarpet": [
           {
            "colorbar": {
             "outlinewidth": 0,
             "ticks": ""
            },
            "type": "contourcarpet"
           }
          ],
          "heatmap": [
           {
            "colorbar": {
             "outlinewidth": 0,
             "ticks": ""
            },
            "colorscale": [
             [
              0,
              "#0d0887"
             ],
             [
              0.1111111111111111,
              "#46039f"
             ],
             [
              0.2222222222222222,
              "#7201a8"
             ],
             [
              0.3333333333333333,
              "#9c179e"
             ],
             [
              0.4444444444444444,
              "#bd3786"
             ],
             [
              0.5555555555555556,
              "#d8576b"
             ],
             [
              0.6666666666666666,
              "#ed7953"
             ],
             [
              0.7777777777777778,
              "#fb9f3a"
             ],
             [
              0.8888888888888888,
              "#fdca26"
             ],
             [
              1,
              "#f0f921"
             ]
            ],
            "type": "heatmap"
           }
          ],
          "heatmapgl": [
           {
            "colorbar": {
             "outlinewidth": 0,
             "ticks": ""
            },
            "colorscale": [
             [
              0,
              "#0d0887"
             ],
             [
              0.1111111111111111,
              "#46039f"
             ],
             [
              0.2222222222222222,
              "#7201a8"
             ],
             [
              0.3333333333333333,
              "#9c179e"
             ],
             [
              0.4444444444444444,
              "#bd3786"
             ],
             [
              0.5555555555555556,
              "#d8576b"
             ],
             [
              0.6666666666666666,
              "#ed7953"
             ],
             [
              0.7777777777777778,
              "#fb9f3a"
             ],
             [
              0.8888888888888888,
              "#fdca26"
             ],
             [
              1,
              "#f0f921"
             ]
            ],
            "type": "heatmapgl"
           }
          ],
          "histogram": [
           {
            "marker": {
             "pattern": {
              "fillmode": "overlay",
              "size": 10,
              "solidity": 0.2
             }
            },
            "type": "histogram"
           }
          ],
          "histogram2d": [
           {
            "colorbar": {
             "outlinewidth": 0,
             "ticks": ""
            },
            "colorscale": [
             [
              0,
              "#0d0887"
             ],
             [
              0.1111111111111111,
              "#46039f"
             ],
             [
              0.2222222222222222,
              "#7201a8"
             ],
             [
              0.3333333333333333,
              "#9c179e"
             ],
             [
              0.4444444444444444,
              "#bd3786"
             ],
             [
              0.5555555555555556,
              "#d8576b"
             ],
             [
              0.6666666666666666,
              "#ed7953"
             ],
             [
              0.7777777777777778,
              "#fb9f3a"
             ],
             [
              0.8888888888888888,
              "#fdca26"
             ],
             [
              1,
              "#f0f921"
             ]
            ],
            "type": "histogram2d"
           }
          ],
          "histogram2dcontour": [
           {
            "colorbar": {
             "outlinewidth": 0,
             "ticks": ""
            },
            "colorscale": [
             [
              0,
              "#0d0887"
             ],
             [
              0.1111111111111111,
              "#46039f"
             ],
             [
              0.2222222222222222,
              "#7201a8"
             ],
             [
              0.3333333333333333,
              "#9c179e"
             ],
             [
              0.4444444444444444,
              "#bd3786"
             ],
             [
              0.5555555555555556,
              "#d8576b"
             ],
             [
              0.6666666666666666,
              "#ed7953"
             ],
             [
              0.7777777777777778,
              "#fb9f3a"
             ],
             [
              0.8888888888888888,
              "#fdca26"
             ],
             [
              1,
              "#f0f921"
             ]
            ],
            "type": "histogram2dcontour"
           }
          ],
          "mesh3d": [
           {
            "colorbar": {
             "outlinewidth": 0,
             "ticks": ""
            },
            "type": "mesh3d"
           }
          ],
          "parcoords": [
           {
            "line": {
             "colorbar": {
              "outlinewidth": 0,
              "ticks": ""
             }
            },
            "type": "parcoords"
           }
          ],
          "pie": [
           {
            "automargin": true,
            "type": "pie"
           }
          ],
          "scatter": [
           {
            "fillpattern": {
             "fillmode": "overlay",
             "size": 10,
             "solidity": 0.2
            },
            "type": "scatter"
           }
          ],
          "scatter3d": [
           {
            "line": {
             "colorbar": {
              "outlinewidth": 0,
              "ticks": ""
             }
            },
            "marker": {
             "colorbar": {
              "outlinewidth": 0,
              "ticks": ""
             }
            },
            "type": "scatter3d"
           }
          ],
          "scattercarpet": [
           {
            "marker": {
             "colorbar": {
              "outlinewidth": 0,
              "ticks": ""
             }
            },
            "type": "scattercarpet"
           }
          ],
          "scattergeo": [
           {
            "marker": {
             "colorbar": {
              "outlinewidth": 0,
              "ticks": ""
             }
            },
            "type": "scattergeo"
           }
          ],
          "scattergl": [
           {
            "marker": {
             "colorbar": {
              "outlinewidth": 0,
              "ticks": ""
             }
            },
            "type": "scattergl"
           }
          ],
          "scattermapbox": [
           {
            "marker": {
             "colorbar": {
              "outlinewidth": 0,
              "ticks": ""
             }
            },
            "type": "scattermapbox"
           }
          ],
          "scatterpolar": [
           {
            "marker": {
             "colorbar": {
              "outlinewidth": 0,
              "ticks": ""
             }
            },
            "type": "scatterpolar"
           }
          ],
          "scatterpolargl": [
           {
            "marker": {
             "colorbar": {
              "outlinewidth": 0,
              "ticks": ""
             }
            },
            "type": "scatterpolargl"
           }
          ],
          "scatterternary": [
           {
            "marker": {
             "colorbar": {
              "outlinewidth": 0,
              "ticks": ""
             }
            },
            "type": "scatterternary"
           }
          ],
          "surface": [
           {
            "colorbar": {
             "outlinewidth": 0,
             "ticks": ""
            },
            "colorscale": [
             [
              0,
              "#0d0887"
             ],
             [
              0.1111111111111111,
              "#46039f"
             ],
             [
              0.2222222222222222,
              "#7201a8"
             ],
             [
              0.3333333333333333,
              "#9c179e"
             ],
             [
              0.4444444444444444,
              "#bd3786"
             ],
             [
              0.5555555555555556,
              "#d8576b"
             ],
             [
              0.6666666666666666,
              "#ed7953"
             ],
             [
              0.7777777777777778,
              "#fb9f3a"
             ],
             [
              0.8888888888888888,
              "#fdca26"
             ],
             [
              1,
              "#f0f921"
             ]
            ],
            "type": "surface"
           }
          ],
          "table": [
           {
            "cells": {
             "fill": {
              "color": "#EBF0F8"
             },
             "line": {
              "color": "white"
             }
            },
            "header": {
             "fill": {
              "color": "#C8D4E3"
             },
             "line": {
              "color": "white"
             }
            },
            "type": "table"
           }
          ]
         },
         "layout": {
          "annotationdefaults": {
           "arrowcolor": "#2a3f5f",
           "arrowhead": 0,
           "arrowwidth": 1
          },
          "autotypenumbers": "strict",
          "coloraxis": {
           "colorbar": {
            "outlinewidth": 0,
            "ticks": ""
           }
          },
          "colorscale": {
           "diverging": [
            [
             0,
             "#8e0152"
            ],
            [
             0.1,
             "#c51b7d"
            ],
            [
             0.2,
             "#de77ae"
            ],
            [
             0.3,
             "#f1b6da"
            ],
            [
             0.4,
             "#fde0ef"
            ],
            [
             0.5,
             "#f7f7f7"
            ],
            [
             0.6,
             "#e6f5d0"
            ],
            [
             0.7,
             "#b8e186"
            ],
            [
             0.8,
             "#7fbc41"
            ],
            [
             0.9,
             "#4d9221"
            ],
            [
             1,
             "#276419"
            ]
           ],
           "sequential": [
            [
             0,
             "#0d0887"
            ],
            [
             0.1111111111111111,
             "#46039f"
            ],
            [
             0.2222222222222222,
             "#7201a8"
            ],
            [
             0.3333333333333333,
             "#9c179e"
            ],
            [
             0.4444444444444444,
             "#bd3786"
            ],
            [
             0.5555555555555556,
             "#d8576b"
            ],
            [
             0.6666666666666666,
             "#ed7953"
            ],
            [
             0.7777777777777778,
             "#fb9f3a"
            ],
            [
             0.8888888888888888,
             "#fdca26"
            ],
            [
             1,
             "#f0f921"
            ]
           ],
           "sequentialminus": [
            [
             0,
             "#0d0887"
            ],
            [
             0.1111111111111111,
             "#46039f"
            ],
            [
             0.2222222222222222,
             "#7201a8"
            ],
            [
             0.3333333333333333,
             "#9c179e"
            ],
            [
             0.4444444444444444,
             "#bd3786"
            ],
            [
             0.5555555555555556,
             "#d8576b"
            ],
            [
             0.6666666666666666,
             "#ed7953"
            ],
            [
             0.7777777777777778,
             "#fb9f3a"
            ],
            [
             0.8888888888888888,
             "#fdca26"
            ],
            [
             1,
             "#f0f921"
            ]
           ]
          },
          "colorway": [
           "#636efa",
           "#EF553B",
           "#00cc96",
           "#ab63fa",
           "#FFA15A",
           "#19d3f3",
           "#FF6692",
           "#B6E880",
           "#FF97FF",
           "#FECB52"
          ],
          "font": {
           "color": "#2a3f5f"
          },
          "geo": {
           "bgcolor": "white",
           "lakecolor": "white",
           "landcolor": "#E5ECF6",
           "showlakes": true,
           "showland": true,
           "subunitcolor": "white"
          },
          "hoverlabel": {
           "align": "left"
          },
          "hovermode": "closest",
          "mapbox": {
           "style": "light"
          },
          "paper_bgcolor": "white",
          "plot_bgcolor": "#E5ECF6",
          "polar": {
           "angularaxis": {
            "gridcolor": "white",
            "linecolor": "white",
            "ticks": ""
           },
           "bgcolor": "#E5ECF6",
           "radialaxis": {
            "gridcolor": "white",
            "linecolor": "white",
            "ticks": ""
           }
          },
          "scene": {
           "xaxis": {
            "backgroundcolor": "#E5ECF6",
            "gridcolor": "white",
            "gridwidth": 2,
            "linecolor": "white",
            "showbackground": true,
            "ticks": "",
            "zerolinecolor": "white"
           },
           "yaxis": {
            "backgroundcolor": "#E5ECF6",
            "gridcolor": "white",
            "gridwidth": 2,
            "linecolor": "white",
            "showbackground": true,
            "ticks": "",
            "zerolinecolor": "white"
           },
           "zaxis": {
            "backgroundcolor": "#E5ECF6",
            "gridcolor": "white",
            "gridwidth": 2,
            "linecolor": "white",
            "showbackground": true,
            "ticks": "",
            "zerolinecolor": "white"
           }
          },
          "shapedefaults": {
           "line": {
            "color": "#2a3f5f"
           }
          },
          "ternary": {
           "aaxis": {
            "gridcolor": "white",
            "linecolor": "white",
            "ticks": ""
           },
           "baxis": {
            "gridcolor": "white",
            "linecolor": "white",
            "ticks": ""
           },
           "bgcolor": "#E5ECF6",
           "caxis": {
            "gridcolor": "white",
            "linecolor": "white",
            "ticks": ""
           }
          },
          "title": {
           "x": 0.05
          },
          "xaxis": {
           "automargin": true,
           "gridcolor": "white",
           "linecolor": "white",
           "ticks": "",
           "title": {
            "standoff": 15
           },
           "zerolinecolor": "white",
           "zerolinewidth": 2
          },
          "yaxis": {
           "automargin": true,
           "gridcolor": "white",
           "linecolor": "white",
           "ticks": "",
           "title": {
            "standoff": 15
           },
           "zerolinecolor": "white",
           "zerolinewidth": 2
          }
         }
        },
        "xaxis": {
         "rangeslider": {
          "visible": false
         }
        }
       }
      }
     },
     "metadata": {},
     "output_type": "display_data"
    },
    {
     "data": {
      "text/plain": [
       "<Figure size 2400x1600 with 0 Axes>"
      ]
     },
     "metadata": {},
     "output_type": "display_data"
    }
   ],
   "source": [
    "plt.figure(figsize=(24,16))\n",
    "fig = go.Figure(data=[go.Candlestick(x=russia['Date'], \n",
    "                open=russia['Open'],\n",
    "                high = russia['High'],\n",
    "                low = russia['Low'],\n",
    "                close = russia['Price'])])\n",
    "fig.update_layout(xaxis_rangeslider_visible=False)\n",
    "fig.show()"
   ]
  },
  {
   "cell_type": "code",
   "execution_count": 13,
   "metadata": {},
   "outputs": [],
   "source": [
    "russia['Vol.'] = russia['Vol.'].apply(lambda x: float(re.sub('M', \"\", x)) * 1000000)"
   ]
  },
  {
   "cell_type": "code",
   "execution_count": 14,
   "metadata": {},
   "outputs": [
    {
     "data": {
      "text/html": [
       "<div>\n",
       "<style scoped>\n",
       "    .dataframe tbody tr th:only-of-type {\n",
       "        vertical-align: middle;\n",
       "    }\n",
       "\n",
       "    .dataframe tbody tr th {\n",
       "        vertical-align: top;\n",
       "    }\n",
       "\n",
       "    .dataframe thead th {\n",
       "        text-align: right;\n",
       "    }\n",
       "</style>\n",
       "<table border=\"1\" class=\"dataframe\">\n",
       "  <thead>\n",
       "    <tr style=\"text-align: right;\">\n",
       "      <th></th>\n",
       "      <th>Date</th>\n",
       "      <th>Price</th>\n",
       "      <th>Open</th>\n",
       "      <th>High</th>\n",
       "      <th>Low</th>\n",
       "      <th>Vol.</th>\n",
       "      <th>Change %</th>\n",
       "    </tr>\n",
       "  </thead>\n",
       "  <tbody>\n",
       "    <tr>\n",
       "      <th>310</th>\n",
       "      <td>2020-01-03 00:00:00</td>\n",
       "      <td>255</td>\n",
       "      <td>255.99</td>\n",
       "      <td>258.19</td>\n",
       "      <td>253.7</td>\n",
       "      <td>35850000.0</td>\n",
       "      <td>0.0010</td>\n",
       "    </tr>\n",
       "    <tr>\n",
       "      <th>309</th>\n",
       "      <td>2020-01-06 00:00:00</td>\n",
       "      <td>253.9</td>\n",
       "      <td>254.75</td>\n",
       "      <td>254.84</td>\n",
       "      <td>251.4</td>\n",
       "      <td>22350000.0</td>\n",
       "      <td>-0.0043</td>\n",
       "    </tr>\n",
       "    <tr>\n",
       "      <th>308</th>\n",
       "      <td>2020-01-08 00:00:00</td>\n",
       "      <td>259.15</td>\n",
       "      <td>253.57</td>\n",
       "      <td>259.15</td>\n",
       "      <td>253.03</td>\n",
       "      <td>40820000.0</td>\n",
       "      <td>0.0207</td>\n",
       "    </tr>\n",
       "    <tr>\n",
       "      <th>307</th>\n",
       "      <td>2020-01-09 00:00:00</td>\n",
       "      <td>257.99</td>\n",
       "      <td>259.4</td>\n",
       "      <td>261.76</td>\n",
       "      <td>257.01</td>\n",
       "      <td>38330000.0</td>\n",
       "      <td>-0.0045</td>\n",
       "    </tr>\n",
       "    <tr>\n",
       "      <th>306</th>\n",
       "      <td>2020-01-10 00:00:00</td>\n",
       "      <td>258.19</td>\n",
       "      <td>257.86</td>\n",
       "      <td>259.25</td>\n",
       "      <td>256.88</td>\n",
       "      <td>18850000.0</td>\n",
       "      <td>0.0008</td>\n",
       "    </tr>\n",
       "  </tbody>\n",
       "</table>\n",
       "</div>"
      ],
      "text/plain": [
       "                    Date   Price    Open    High     Low        Vol.  Change %\n",
       "310  2020-01-03 00:00:00     255  255.99  258.19   253.7  35850000.0    0.0010\n",
       "309  2020-01-06 00:00:00   253.9  254.75  254.84   251.4  22350000.0   -0.0043\n",
       "308  2020-01-08 00:00:00  259.15  253.57  259.15  253.03  40820000.0    0.0207\n",
       "307  2020-01-09 00:00:00  257.99   259.4  261.76  257.01  38330000.0   -0.0045\n",
       "306  2020-01-10 00:00:00  258.19  257.86  259.25  256.88  18850000.0    0.0008"
      ]
     },
     "execution_count": 14,
     "metadata": {},
     "output_type": "execute_result"
    }
   ],
   "source": [
    "russia.head()"
   ]
  },
  {
   "cell_type": "code",
   "execution_count": 54,
   "metadata": {},
   "outputs": [],
   "source": [
    "# when changing the data into weekly/monthly,\n",
    "# we can keep everything the same except for the % change where it should change according to the difference between weekly/monthly closing prices\n",
    "logic = {'Open'  : 'first',\n",
    "         'High'  : 'max',\n",
    "         'Low'   : 'min',\n",
    "         'Price' : 'last',\n",
    "         'Vol.': 'sum',\n",
    "         'Change %': 'sum'}\n",
    "\n",
    "russia_weekly = russia.set_index('Date')\n",
    "russia_weekly = russia_weekly.sort_index()\n",
    "russia_weekly = russia_weekly.resample('W').apply(logic)\n",
    "russia_weekly.index = russia_weekly.index - pd.tseries.frequencies.to_offset(\"6D\")\n",
    "russia_weekly = russia_weekly.reset_index()"
   ]
  },
  {
   "cell_type": "code",
   "execution_count": 55,
   "metadata": {},
   "outputs": [],
   "source": [
    "russia_weekly['Vol.'] = russia_weekly['Vol.'].apply(lambda x: str(x/1000000) + \"M\")"
   ]
  },
  {
   "cell_type": "code",
   "execution_count": 56,
   "metadata": {},
   "outputs": [
    {
     "data": {
      "text/html": [
       "<div>\n",
       "<style scoped>\n",
       "    .dataframe tbody tr th:only-of-type {\n",
       "        vertical-align: middle;\n",
       "    }\n",
       "\n",
       "    .dataframe tbody tr th {\n",
       "        vertical-align: top;\n",
       "    }\n",
       "\n",
       "    .dataframe thead th {\n",
       "        text-align: right;\n",
       "    }\n",
       "</style>\n",
       "<table border=\"1\" class=\"dataframe\">\n",
       "  <thead>\n",
       "    <tr style=\"text-align: right;\">\n",
       "      <th></th>\n",
       "      <th>Date</th>\n",
       "      <th>Open</th>\n",
       "      <th>High</th>\n",
       "      <th>Low</th>\n",
       "      <th>Price</th>\n",
       "      <th>Vol.</th>\n",
       "      <th>Change %</th>\n",
       "    </tr>\n",
       "  </thead>\n",
       "  <tbody>\n",
       "    <tr>\n",
       "      <th>0</th>\n",
       "      <td>2019-12-30</td>\n",
       "      <td>255.99</td>\n",
       "      <td>258.19</td>\n",
       "      <td>253.70</td>\n",
       "      <td>255</td>\n",
       "      <td>35.85M</td>\n",
       "      <td>0.0010</td>\n",
       "    </tr>\n",
       "    <tr>\n",
       "      <th>1</th>\n",
       "      <td>2020-01-06</td>\n",
       "      <td>254.75</td>\n",
       "      <td>261.76</td>\n",
       "      <td>251.40</td>\n",
       "      <td>258.19</td>\n",
       "      <td>120.35M</td>\n",
       "      <td>0.0127</td>\n",
       "    </tr>\n",
       "    <tr>\n",
       "      <th>2</th>\n",
       "      <td>2020-01-13</td>\n",
       "      <td>258.3</td>\n",
       "      <td>263.22</td>\n",
       "      <td>254.21</td>\n",
       "      <td>262.5</td>\n",
       "      <td>191.51M</td>\n",
       "      <td>0.0170</td>\n",
       "    </tr>\n",
       "    <tr>\n",
       "      <th>3</th>\n",
       "      <td>2020-01-20</td>\n",
       "      <td>263.2</td>\n",
       "      <td>270.80</td>\n",
       "      <td>261.80</td>\n",
       "      <td>265.49</td>\n",
       "      <td>180.1M</td>\n",
       "      <td>0.0116</td>\n",
       "    </tr>\n",
       "    <tr>\n",
       "      <th>4</th>\n",
       "      <td>2020-01-27</td>\n",
       "      <td>261</td>\n",
       "      <td>262.10</td>\n",
       "      <td>252.17</td>\n",
       "      <td>252.2</td>\n",
       "      <td>219.33M</td>\n",
       "      <td>-0.0503</td>\n",
       "    </tr>\n",
       "  </tbody>\n",
       "</table>\n",
       "</div>"
      ],
      "text/plain": [
       "        Date    Open    High     Low   Price     Vol.  Change %\n",
       "0 2019-12-30  255.99  258.19  253.70     255   35.85M    0.0010\n",
       "1 2020-01-06  254.75  261.76  251.40  258.19  120.35M    0.0127\n",
       "2 2020-01-13   258.3  263.22  254.21   262.5  191.51M    0.0170\n",
       "3 2020-01-20   263.2  270.80  261.80  265.49   180.1M    0.0116\n",
       "4 2020-01-27     261  262.10  252.17   252.2  219.33M   -0.0503"
      ]
     },
     "execution_count": 56,
     "metadata": {},
     "output_type": "execute_result"
    }
   ],
   "source": [
    "russia_weekly.head()"
   ]
  },
  {
   "cell_type": "code",
   "execution_count": 60,
   "metadata": {},
   "outputs": [],
   "source": [
    "logic = {'Open'  : 'first',\n",
    "         'High'  : 'max',\n",
    "         'Low'   : 'min',\n",
    "         'Price' : 'last',\n",
    "         'Vol.': 'sum',\n",
    "         'Change %': 'sum'}\n",
    "\n",
    "russia_monthly = russia.set_index('Date')\n",
    "russia_monthly = russia_monthly.sort_index()\n",
    "russia_monthly = russia_monthly.resample('M').apply(logic)\n",
    "russia_monthly.index = russia_monthly.index - pd.tseries.frequencies.to_offset(\"M\")\n",
    "russia_monthly = russia_monthly.reset_index()"
   ]
  },
  {
   "cell_type": "code",
   "execution_count": 61,
   "metadata": {},
   "outputs": [],
   "source": [
    "russia_monthly['Vol.'] = russia_monthly['Vol.'].apply(lambda x: str(x/1000000) + \"M\")"
   ]
  },
  {
   "cell_type": "code",
   "execution_count": 62,
   "metadata": {},
   "outputs": [
    {
     "data": {
      "text/html": [
       "<div>\n",
       "<style scoped>\n",
       "    .dataframe tbody tr th:only-of-type {\n",
       "        vertical-align: middle;\n",
       "    }\n",
       "\n",
       "    .dataframe tbody tr th {\n",
       "        vertical-align: top;\n",
       "    }\n",
       "\n",
       "    .dataframe thead th {\n",
       "        text-align: right;\n",
       "    }\n",
       "</style>\n",
       "<table border=\"1\" class=\"dataframe\">\n",
       "  <thead>\n",
       "    <tr style=\"text-align: right;\">\n",
       "      <th></th>\n",
       "      <th>Date</th>\n",
       "      <th>Open</th>\n",
       "      <th>High</th>\n",
       "      <th>Low</th>\n",
       "      <th>Price</th>\n",
       "      <th>Vol.</th>\n",
       "      <th>Change %</th>\n",
       "    </tr>\n",
       "  </thead>\n",
       "  <tbody>\n",
       "    <tr>\n",
       "      <th>0</th>\n",
       "      <td>2019-12-31</td>\n",
       "      <td>255.99</td>\n",
       "      <td>270.80</td>\n",
       "      <td>251.40</td>\n",
       "      <td>252.2</td>\n",
       "      <td>747.14M</td>\n",
       "      <td>-0.0080</td>\n",
       "    </tr>\n",
       "    <tr>\n",
       "      <th>1</th>\n",
       "      <td>2020-01-31</td>\n",
       "      <td>251.8</td>\n",
       "      <td>259.77</td>\n",
       "      <td>231.00</td>\n",
       "      <td>233.36</td>\n",
       "      <td>919.84M</td>\n",
       "      <td>-0.0754</td>\n",
       "    </tr>\n",
       "    <tr>\n",
       "      <th>2</th>\n",
       "      <td>2020-02-29</td>\n",
       "      <td>238.93</td>\n",
       "      <td>241.00</td>\n",
       "      <td>172.15</td>\n",
       "      <td>187.21</td>\n",
       "      <td>3001.72M</td>\n",
       "      <td>-0.1884</td>\n",
       "    </tr>\n",
       "    <tr>\n",
       "      <th>3</th>\n",
       "      <td>2020-03-31</td>\n",
       "      <td>183.2</td>\n",
       "      <td>205.44</td>\n",
       "      <td>182.00</td>\n",
       "      <td>197.25</td>\n",
       "      <td>1768.2M</td>\n",
       "      <td>0.0566</td>\n",
       "    </tr>\n",
       "    <tr>\n",
       "      <th>4</th>\n",
       "      <td>2020-04-30</td>\n",
       "      <td>195.68</td>\n",
       "      <td>205.00</td>\n",
       "      <td>183.33</td>\n",
       "      <td>200.5</td>\n",
       "      <td>1359.04M</td>\n",
       "      <td>0.0192</td>\n",
       "    </tr>\n",
       "  </tbody>\n",
       "</table>\n",
       "</div>"
      ],
      "text/plain": [
       "        Date    Open    High     Low   Price      Vol.  Change %\n",
       "0 2019-12-31  255.99  270.80  251.40   252.2   747.14M   -0.0080\n",
       "1 2020-01-31   251.8  259.77  231.00  233.36   919.84M   -0.0754\n",
       "2 2020-02-29  238.93  241.00  172.15  187.21  3001.72M   -0.1884\n",
       "3 2020-03-31   183.2  205.44  182.00  197.25   1768.2M    0.0566\n",
       "4 2020-04-30  195.68  205.00  183.33   200.5  1359.04M    0.0192"
      ]
     },
     "execution_count": 62,
     "metadata": {},
     "output_type": "execute_result"
    }
   ],
   "source": [
    "russia_monthly.head()"
   ]
  },
  {
   "cell_type": "markdown",
   "metadata": {},
   "source": [
    "From https://tcoil.info/compute-bollinger-bands-for-stocks-with-python-and-pandas/"
   ]
  },
  {
   "cell_type": "code",
   "execution_count": 63,
   "metadata": {},
   "outputs": [],
   "source": [
    "def bollinger_bands(df, n, m):\n",
    "    # takes dataframe on input\n",
    "    # n = smoothing length\n",
    "    # m = number of standard deviations away from MA\n",
    "    \n",
    "    #typical price\n",
    "    TP = (df['High'] + df['Low'] + df['Price']) / 3\n",
    "    # but we will use Adj close instead for now, depends\n",
    "    \n",
    "    data = TP\n",
    "    #data = df['Adj Close']\n",
    "    \n",
    "    # takes one column from dataframe\n",
    "    B_MA = pd.Series((data.rolling(n, min_periods=n).mean()), name='B_MA')\n",
    "    sigma = data.rolling(n, min_periods=n).std() \n",
    "    \n",
    "    BU = pd.Series((B_MA + m * sigma), name='BU')\n",
    "    BL = pd.Series((B_MA - m * sigma), name='BL')\n",
    "    \n",
    "    df = df.join(B_MA)\n",
    "    df = df.join(BU)\n",
    "    df = df.join(BL)\n",
    "    \n",
    "    return df"
   ]
  },
  {
   "cell_type": "code",
   "execution_count": 64,
   "metadata": {},
   "outputs": [],
   "source": [
    "russia_bollinger = bollinger_bands(russia, 20, 2)"
   ]
  },
  {
   "cell_type": "code",
   "execution_count": 65,
   "metadata": {},
   "outputs": [
    {
     "data": {
      "image/png": "[encoded data removed]",
      "text/plain": [
       "<Figure size 1500x500 with 1 Axes>"
      ]
     },
     "metadata": {},
     "output_type": "display_data"
    },
    {
     "data": {
      "image/png": "[encoded data removed]",
      "text/plain": [
       "<Figure size 1500x500 with 1 Axes>"
      ]
     },
     "metadata": {},
     "output_type": "display_data"
    }
   ],
   "source": [
    "# plot price\n",
    "plt.figure(figsize=(15,5))\n",
    "plt.plot(russia_bollinger['Date'], russia_bollinger['Price'])\n",
    "plt.title('Price chart ' + \"SBER\")\n",
    "plt.show()\n",
    "\n",
    "# plot correspondingRSI values and significant levels\n",
    "plt.figure(figsize=(15,5))\n",
    "plt.title('Bollinger Bands chart ' + \"SBER\")\n",
    "plt.plot(russia_bollinger['Date'], russia_bollinger['Price'], label = \"Price\")\n",
    "plt.plot(russia_bollinger['Date'], russia_bollinger['BU'], alpha=0.3, label = \"Upper Band\")\n",
    "plt.plot(russia_bollinger['Date'], russia_bollinger['BL'], alpha=0.3, label = \"Lower Band\")\n",
    "plt.plot(russia_bollinger['Date'], russia_bollinger['B_MA'], alpha=0.3, label = \"20 Day SMA\")\n",
    "plt.fill_between(russia_bollinger['Date'], russia_bollinger['BU'], russia_bollinger['BL'], color='grey', alpha=0.1)\n",
    "plt.legend()\n",
    "\n",
    "plt.show()"
   ]
  },
  {
   "cell_type": "code",
   "execution_count": 82,
   "metadata": {},
   "outputs": [],
   "source": [
    "import numpy as np\n",
    "def add_signal(df):\n",
    "    # adds two columns to dataframe with buy and sell signals\n",
    "    buy_list = []\n",
    "    sell_list = []\n",
    "    \n",
    "    for i in range(len(df['Price'])):\n",
    "        if df['Price'][i] > df['BU'][i]:           # sell signal     daily\n",
    "        # if df['High'][i] > df['BU'][i]:             # sell signal     weekly\n",
    "            buy_list.append(np.nan)\n",
    "            sell_list.append(df['Price'][i])\n",
    "        elif df['Price'][i] < df['BL'][i]:         # buy signal      daily\n",
    "        # elif df['Low'][i] < df['BL'][i]:            # buy signal      weekly\n",
    "            buy_list.append(df['Price'][i])\n",
    "            sell_list.append(np.nan)  \n",
    "        else:\n",
    "            buy_list.append(np.nan)\n",
    "            sell_list.append(np.nan)\n",
    "         \n",
    "    buy_list = pd.Series(buy_list, name='Buy')\n",
    "    sell_list = pd.Series(sell_list, name='Sell')\n",
    "        \n",
    "    df = df.join(buy_list)\n",
    "    df = df.join(sell_list)        \n",
    "     \n",
    "    return df"
   ]
  },
  {
   "cell_type": "code",
   "execution_count": 83,
   "metadata": {},
   "outputs": [],
   "source": [
    "def plot_signals(df, ticker):\n",
    "    # plot price\n",
    "    plt.figure(figsize=(15,5))\n",
    "    plt.plot(df['Date'], df['Price'])\n",
    "    plt.title('Price chart ' + str(ticker))\n",
    "    plt.show()\n",
    "\n",
    "    # plot  values and significant levels\n",
    "    plt.figure(figsize=(15,5))\n",
    "    plt.title('Bollinger Bands chart ' + str(ticker))\n",
    "    plt.plot(df['Date'], df['Price'], label='Adj Close')\n",
    "\n",
    "    plt.plot(df['Date'], df['High'], label='High', alpha=0.3)\n",
    "    plt.plot(df['Date'], df['Low'], label='Low', alpha=0.3)\n",
    "\n",
    "    plt.plot(df['Date'], df['BU'], label='B_Upper', alpha=0.3)\n",
    "    plt.plot(df['Date'], df['BL'], label='B_Lower', alpha=0.3)\n",
    "    plt.plot(df['Date'], df['B_MA'], label='B_SMA', alpha=0.3)\n",
    "    plt.fill_between(df['Date'], df['BU'], df['BL'], color='grey', alpha=0.1)\n",
    "\n",
    "    plt.scatter(df['Date'], df['Buy'], label='Buy', marker='^')\n",
    "    plt.scatter(df['Date'], df['Sell'], label='Sell', marker='v')\n",
    "\n",
    "    plt.legend()\n",
    "\n",
    "    plt.show()"
   ]
  },
  {
   "cell_type": "code",
   "execution_count": 84,
   "metadata": {},
   "outputs": [
    {
     "data": {
      "text/html": [
       "<div>\n",
       "<style scoped>\n",
       "    .dataframe tbody tr th:only-of-type {\n",
       "        vertical-align: middle;\n",
       "    }\n",
       "\n",
       "    .dataframe tbody tr th {\n",
       "        vertical-align: top;\n",
       "    }\n",
       "\n",
       "    .dataframe thead th {\n",
       "        text-align: right;\n",
       "    }\n",
       "</style>\n",
       "<table border=\"1\" class=\"dataframe\">\n",
       "  <thead>\n",
       "    <tr style=\"text-align: right;\">\n",
       "      <th></th>\n",
       "      <th>Date</th>\n",
       "      <th>Price</th>\n",
       "      <th>Open</th>\n",
       "      <th>High</th>\n",
       "      <th>Low</th>\n",
       "      <th>Vol.</th>\n",
       "      <th>Change %</th>\n",
       "    </tr>\n",
       "  </thead>\n",
       "  <tbody>\n",
       "    <tr>\n",
       "      <th>310</th>\n",
       "      <td>2020-01-03 00:00:00</td>\n",
       "      <td>255</td>\n",
       "      <td>255.99</td>\n",
       "      <td>258.19</td>\n",
       "      <td>253.7</td>\n",
       "      <td>35850000.0</td>\n",
       "      <td>0.0010</td>\n",
       "    </tr>\n",
       "    <tr>\n",
       "      <th>309</th>\n",
       "      <td>2020-01-06 00:00:00</td>\n",
       "      <td>253.9</td>\n",
       "      <td>254.75</td>\n",
       "      <td>254.84</td>\n",
       "      <td>251.4</td>\n",
       "      <td>22350000.0</td>\n",
       "      <td>-0.0043</td>\n",
       "    </tr>\n",
       "    <tr>\n",
       "      <th>308</th>\n",
       "      <td>2020-01-08 00:00:00</td>\n",
       "      <td>259.15</td>\n",
       "      <td>253.57</td>\n",
       "      <td>259.15</td>\n",
       "      <td>253.03</td>\n",
       "      <td>40820000.0</td>\n",
       "      <td>0.0207</td>\n",
       "    </tr>\n",
       "    <tr>\n",
       "      <th>307</th>\n",
       "      <td>2020-01-09 00:00:00</td>\n",
       "      <td>257.99</td>\n",
       "      <td>259.4</td>\n",
       "      <td>261.76</td>\n",
       "      <td>257.01</td>\n",
       "      <td>38330000.0</td>\n",
       "      <td>-0.0045</td>\n",
       "    </tr>\n",
       "    <tr>\n",
       "      <th>306</th>\n",
       "      <td>2020-01-10 00:00:00</td>\n",
       "      <td>258.19</td>\n",
       "      <td>257.86</td>\n",
       "      <td>259.25</td>\n",
       "      <td>256.88</td>\n",
       "      <td>18850000.0</td>\n",
       "      <td>0.0008</td>\n",
       "    </tr>\n",
       "    <tr>\n",
       "      <th>...</th>\n",
       "      <td>...</td>\n",
       "      <td>...</td>\n",
       "      <td>...</td>\n",
       "      <td>...</td>\n",
       "      <td>...</td>\n",
       "      <td>...</td>\n",
       "      <td>...</td>\n",
       "    </tr>\n",
       "    <tr>\n",
       "      <th>65</th>\n",
       "      <td>2020-12-24 00:00:00</td>\n",
       "      <td>269.32</td>\n",
       "      <td>271.98</td>\n",
       "      <td>272.82</td>\n",
       "      <td>267.13</td>\n",
       "      <td>42610000.0</td>\n",
       "      <td>-0.0029</td>\n",
       "    </tr>\n",
       "    <tr>\n",
       "      <th>64</th>\n",
       "      <td>2020-12-25 00:00:00</td>\n",
       "      <td>270.64</td>\n",
       "      <td>269.97</td>\n",
       "      <td>271</td>\n",
       "      <td>268.28</td>\n",
       "      <td>11990000.0</td>\n",
       "      <td>0.0049</td>\n",
       "    </tr>\n",
       "    <tr>\n",
       "      <th>63</th>\n",
       "      <td>2020-12-28 00:00:00</td>\n",
       "      <td>274.7</td>\n",
       "      <td>270.9</td>\n",
       "      <td>275.19</td>\n",
       "      <td>269.73</td>\n",
       "      <td>39040000.0</td>\n",
       "      <td>0.0150</td>\n",
       "    </tr>\n",
       "    <tr>\n",
       "      <th>62</th>\n",
       "      <td>2020-12-29 00:00:00</td>\n",
       "      <td>272</td>\n",
       "      <td>275.91</td>\n",
       "      <td>276.43</td>\n",
       "      <td>271.26</td>\n",
       "      <td>39020000.0</td>\n",
       "      <td>-0.0098</td>\n",
       "    </tr>\n",
       "    <tr>\n",
       "      <th>61</th>\n",
       "      <td>2020-12-30 00:00:00</td>\n",
       "      <td>271.65</td>\n",
       "      <td>272.49</td>\n",
       "      <td>274.24</td>\n",
       "      <td>270.12</td>\n",
       "      <td>31530000.0</td>\n",
       "      <td>-0.0013</td>\n",
       "    </tr>\n",
       "  </tbody>\n",
       "</table>\n",
       "<p>250 rows × 7 columns</p>\n",
       "</div>"
      ],
      "text/plain": [
       "                    Date   Price    Open    High     Low        Vol.  Change %\n",
       "310  2020-01-03 00:00:00     255  255.99  258.19   253.7  35850000.0    0.0010\n",
       "309  2020-01-06 00:00:00   253.9  254.75  254.84   251.4  22350000.0   -0.0043\n",
       "308  2020-01-08 00:00:00  259.15  253.57  259.15  253.03  40820000.0    0.0207\n",
       "307  2020-01-09 00:00:00  257.99   259.4  261.76  257.01  38330000.0   -0.0045\n",
       "306  2020-01-10 00:00:00  258.19  257.86  259.25  256.88  18850000.0    0.0008\n",
       "..                   ...     ...     ...     ...     ...         ...       ...\n",
       "65   2020-12-24 00:00:00  269.32  271.98  272.82  267.13  42610000.0   -0.0029\n",
       "64   2020-12-25 00:00:00  270.64  269.97     271  268.28  11990000.0    0.0049\n",
       "63   2020-12-28 00:00:00   274.7   270.9  275.19  269.73  39040000.0    0.0150\n",
       "62   2020-12-29 00:00:00     272  275.91  276.43  271.26  39020000.0   -0.0098\n",
       "61   2020-12-30 00:00:00  271.65  272.49  274.24  270.12  31530000.0   -0.0013\n",
       "\n",
       "[250 rows x 7 columns]"
      ]
     },
     "execution_count": 84,
     "metadata": {},
     "output_type": "execute_result"
    }
   ],
   "source": [
    "russia"
   ]
  },
  {
   "cell_type": "code",
   "execution_count": 89,
   "metadata": {},
   "outputs": [
    {
     "ename": "KeyError",
     "evalue": "0",
     "output_type": "error",
     "traceback": [
      "\u001b[1;31m---------------------------------------------------------------------------\u001b[0m",
      "\u001b[1;31mKeyError\u001b[0m                                  Traceback (most recent call last)",
      "\u001b[1;32mc:\\Users\\jared\\anaconda3\\envs\\THE_ONE\\lib\\site-packages\\pandas\\core\\indexes\\base.py\u001b[0m in \u001b[0;36mget_loc\u001b[1;34m(self, key, method, tolerance)\u001b[0m\n\u001b[0;32m   3802\u001b[0m             \u001b[1;32mtry\u001b[0m\u001b[1;33m:\u001b[0m\u001b[1;33m\u001b[0m\u001b[1;33m\u001b[0m\u001b[0m\n\u001b[1;32m-> 3803\u001b[1;33m                 \u001b[1;32mreturn\u001b[0m \u001b[0mself\u001b[0m\u001b[1;33m.\u001b[0m\u001b[0m_engine\u001b[0m\u001b[1;33m.\u001b[0m\u001b[0mget_loc\u001b[0m\u001b[1;33m(\u001b[0m\u001b[0mcasted_key\u001b[0m\u001b[1;33m)\u001b[0m\u001b[1;33m\u001b[0m\u001b[1;33m\u001b[0m\u001b[0m\n\u001b[0m\u001b[0;32m   3804\u001b[0m             \u001b[1;32mexcept\u001b[0m \u001b[0mKeyError\u001b[0m \u001b[1;32mas\u001b[0m \u001b[0merr\u001b[0m\u001b[1;33m:\u001b[0m\u001b[1;33m\u001b[0m\u001b[1;33m\u001b[0m\u001b[0m\n",
      "\u001b[1;32mc:\\Users\\jared\\anaconda3\\envs\\THE_ONE\\lib\\site-packages\\pandas\\_libs\\index.pyx\u001b[0m in \u001b[0;36mpandas._libs.index.IndexEngine.get_loc\u001b[1;34m()\u001b[0m\n",
      "\u001b[1;32mc:\\Users\\jared\\anaconda3\\envs\\THE_ONE\\lib\\site-packages\\pandas\\_libs\\index.pyx\u001b[0m in \u001b[0;36mpandas._libs.index.IndexEngine.get_loc\u001b[1;34m()\u001b[0m\n",
      "\u001b[1;32mpandas\\_libs\\hashtable_class_helper.pxi\u001b[0m in \u001b[0;36mpandas._libs.hashtable.Int64HashTable.get_item\u001b[1;34m()\u001b[0m\n",
      "\u001b[1;32mpandas\\_libs\\hashtable_class_helper.pxi\u001b[0m in \u001b[0;36mpandas._libs.hashtable.Int64HashTable.get_item\u001b[1;34m()\u001b[0m\n",
      "\u001b[1;31mKeyError\u001b[0m: 0",
      "\nThe above exception was the direct cause of the following exception:\n",
      "\u001b[1;31mKeyError\u001b[0m                                  Traceback (most recent call last)",
      "\u001b[1;32m~\\AppData\\Local\\Temp/ipykernel_19468/2853327477.py\u001b[0m in \u001b[0;36m<cell line: 2>\u001b[1;34m()\u001b[0m\n\u001b[0;32m      1\u001b[0m \u001b[0mrussia_daily_bollinger\u001b[0m \u001b[1;33m=\u001b[0m \u001b[0mbollinger_bands\u001b[0m\u001b[1;33m(\u001b[0m\u001b[0mrussia\u001b[0m\u001b[1;33m,\u001b[0m \u001b[1;36m20\u001b[0m\u001b[1;33m,\u001b[0m \u001b[1;36m2\u001b[0m\u001b[1;33m)\u001b[0m\u001b[1;33m\u001b[0m\u001b[1;33m\u001b[0m\u001b[0m\n\u001b[1;32m----> 2\u001b[1;33m \u001b[0mrussia_daily_bollinger\u001b[0m \u001b[1;33m=\u001b[0m \u001b[0madd_signal\u001b[0m\u001b[1;33m(\u001b[0m\u001b[0mrussia_daily_bollinger\u001b[0m\u001b[1;33m)\u001b[0m\u001b[1;33m\u001b[0m\u001b[1;33m\u001b[0m\u001b[0m\n\u001b[0m\u001b[0;32m      3\u001b[0m \u001b[0mplot_signals\u001b[0m\u001b[1;33m(\u001b[0m\u001b[0mrussia_daily_bollinger\u001b[0m\u001b[1;33m,\u001b[0m \u001b[1;34m\"SBER\"\u001b[0m\u001b[1;33m)\u001b[0m\u001b[1;33m\u001b[0m\u001b[1;33m\u001b[0m\u001b[0m\n",
      "\u001b[1;32m~\\AppData\\Local\\Temp/ipykernel_19468/1576164746.py\u001b[0m in \u001b[0;36madd_signal\u001b[1;34m(df)\u001b[0m\n\u001b[0;32m      6\u001b[0m \u001b[1;33m\u001b[0m\u001b[0m\n\u001b[0;32m      7\u001b[0m     \u001b[1;32mfor\u001b[0m \u001b[0mi\u001b[0m \u001b[1;32min\u001b[0m \u001b[0mrange\u001b[0m\u001b[1;33m(\u001b[0m\u001b[0mlen\u001b[0m\u001b[1;33m(\u001b[0m\u001b[0mdf\u001b[0m\u001b[1;33m[\u001b[0m\u001b[1;34m'Price'\u001b[0m\u001b[1;33m]\u001b[0m\u001b[1;33m)\u001b[0m\u001b[1;33m)\u001b[0m\u001b[1;33m:\u001b[0m\u001b[1;33m\u001b[0m\u001b[1;33m\u001b[0m\u001b[0m\n\u001b[1;32m----> 8\u001b[1;33m         \u001b[1;32mif\u001b[0m \u001b[0mdf\u001b[0m\u001b[1;33m[\u001b[0m\u001b[1;34m'Price'\u001b[0m\u001b[1;33m]\u001b[0m\u001b[1;33m[\u001b[0m\u001b[0mi\u001b[0m\u001b[1;33m]\u001b[0m \u001b[1;33m>\u001b[0m \u001b[0mdf\u001b[0m\u001b[1;33m[\u001b[0m\u001b[1;34m'BU'\u001b[0m\u001b[1;33m]\u001b[0m\u001b[1;33m[\u001b[0m\u001b[0mi\u001b[0m\u001b[1;33m]\u001b[0m\u001b[1;33m:\u001b[0m           \u001b[1;31m# sell signal     daily\u001b[0m\u001b[1;33m\u001b[0m\u001b[1;33m\u001b[0m\u001b[0m\n\u001b[0m\u001b[0;32m      9\u001b[0m         \u001b[1;31m# if df['High'][i] > df['BU'][i]:             # sell signal     weekly\u001b[0m\u001b[1;33m\u001b[0m\u001b[1;33m\u001b[0m\u001b[1;33m\u001b[0m\u001b[0m\n\u001b[0;32m     10\u001b[0m             \u001b[0mbuy_list\u001b[0m\u001b[1;33m.\u001b[0m\u001b[0mappend\u001b[0m\u001b[1;33m(\u001b[0m\u001b[0mnp\u001b[0m\u001b[1;33m.\u001b[0m\u001b[0mnan\u001b[0m\u001b[1;33m)\u001b[0m\u001b[1;33m\u001b[0m\u001b[1;33m\u001b[0m\u001b[0m\n",
      "\u001b[1;32mc:\\Users\\jared\\anaconda3\\envs\\THE_ONE\\lib\\site-packages\\pandas\\core\\series.py\u001b[0m in \u001b[0;36m__getitem__\u001b[1;34m(self, key)\u001b[0m\n\u001b[0;32m    979\u001b[0m \u001b[1;33m\u001b[0m\u001b[0m\n\u001b[0;32m    980\u001b[0m         \u001b[1;32melif\u001b[0m \u001b[0mkey_is_scalar\u001b[0m\u001b[1;33m:\u001b[0m\u001b[1;33m\u001b[0m\u001b[1;33m\u001b[0m\u001b[0m\n\u001b[1;32m--> 981\u001b[1;33m             \u001b[1;32mreturn\u001b[0m \u001b[0mself\u001b[0m\u001b[1;33m.\u001b[0m\u001b[0m_get_value\u001b[0m\u001b[1;33m(\u001b[0m\u001b[0mkey\u001b[0m\u001b[1;33m)\u001b[0m\u001b[1;33m\u001b[0m\u001b[1;33m\u001b[0m\u001b[0m\n\u001b[0m\u001b[0;32m    982\u001b[0m \u001b[1;33m\u001b[0m\u001b[0m\n\u001b[0;32m    983\u001b[0m         \u001b[1;32mif\u001b[0m \u001b[0mis_hashable\u001b[0m\u001b[1;33m(\u001b[0m\u001b[0mkey\u001b[0m\u001b[1;33m)\u001b[0m\u001b[1;33m:\u001b[0m\u001b[1;33m\u001b[0m\u001b[1;33m\u001b[0m\u001b[0m\n",
      "\u001b[1;32mc:\\Users\\jared\\anaconda3\\envs\\THE_ONE\\lib\\site-packages\\pandas\\core\\series.py\u001b[0m in \u001b[0;36m_get_value\u001b[1;34m(self, label, takeable)\u001b[0m\n\u001b[0;32m   1087\u001b[0m \u001b[1;33m\u001b[0m\u001b[0m\n\u001b[0;32m   1088\u001b[0m         \u001b[1;31m# Similar to Index.get_value, but we do not fall back to positional\u001b[0m\u001b[1;33m\u001b[0m\u001b[1;33m\u001b[0m\u001b[1;33m\u001b[0m\u001b[0m\n\u001b[1;32m-> 1089\u001b[1;33m         \u001b[0mloc\u001b[0m \u001b[1;33m=\u001b[0m \u001b[0mself\u001b[0m\u001b[1;33m.\u001b[0m\u001b[0mindex\u001b[0m\u001b[1;33m.\u001b[0m\u001b[0mget_loc\u001b[0m\u001b[1;33m(\u001b[0m\u001b[0mlabel\u001b[0m\u001b[1;33m)\u001b[0m\u001b[1;33m\u001b[0m\u001b[1;33m\u001b[0m\u001b[0m\n\u001b[0m\u001b[0;32m   1090\u001b[0m         \u001b[1;32mreturn\u001b[0m \u001b[0mself\u001b[0m\u001b[1;33m.\u001b[0m\u001b[0mindex\u001b[0m\u001b[1;33m.\u001b[0m\u001b[0m_get_values_for_loc\u001b[0m\u001b[1;33m(\u001b[0m\u001b[0mself\u001b[0m\u001b[1;33m,\u001b[0m \u001b[0mloc\u001b[0m\u001b[1;33m,\u001b[0m \u001b[0mlabel\u001b[0m\u001b[1;33m)\u001b[0m\u001b[1;33m\u001b[0m\u001b[1;33m\u001b[0m\u001b[0m\n\u001b[0;32m   1091\u001b[0m \u001b[1;33m\u001b[0m\u001b[0m\n",
      "\u001b[1;32mc:\\Users\\jared\\anaconda3\\envs\\THE_ONE\\lib\\site-packages\\pandas\\core\\indexes\\base.py\u001b[0m in \u001b[0;36mget_loc\u001b[1;34m(self, key, method, tolerance)\u001b[0m\n\u001b[0;32m   3803\u001b[0m                 \u001b[1;32mreturn\u001b[0m \u001b[0mself\u001b[0m\u001b[1;33m.\u001b[0m\u001b[0m_engine\u001b[0m\u001b[1;33m.\u001b[0m\u001b[0mget_loc\u001b[0m\u001b[1;33m(\u001b[0m\u001b[0mcasted_key\u001b[0m\u001b[1;33m)\u001b[0m\u001b[1;33m\u001b[0m\u001b[1;33m\u001b[0m\u001b[0m\n\u001b[0;32m   3804\u001b[0m             \u001b[1;32mexcept\u001b[0m \u001b[0mKeyError\u001b[0m \u001b[1;32mas\u001b[0m \u001b[0merr\u001b[0m\u001b[1;33m:\u001b[0m\u001b[1;33m\u001b[0m\u001b[1;33m\u001b[0m\u001b[0m\n\u001b[1;32m-> 3805\u001b[1;33m                 \u001b[1;32mraise\u001b[0m \u001b[0mKeyError\u001b[0m\u001b[1;33m(\u001b[0m\u001b[0mkey\u001b[0m\u001b[1;33m)\u001b[0m \u001b[1;32mfrom\u001b[0m \u001b[0merr\u001b[0m\u001b[1;33m\u001b[0m\u001b[1;33m\u001b[0m\u001b[0m\n\u001b[0m\u001b[0;32m   3806\u001b[0m             \u001b[1;32mexcept\u001b[0m \u001b[0mTypeError\u001b[0m\u001b[1;33m:\u001b[0m\u001b[1;33m\u001b[0m\u001b[1;33m\u001b[0m\u001b[0m\n\u001b[0;32m   3807\u001b[0m                 \u001b[1;31m# If we have a listlike key, _check_indexing_error will raise\u001b[0m\u001b[1;33m\u001b[0m\u001b[1;33m\u001b[0m\u001b[1;33m\u001b[0m\u001b[0m\n",
      "\u001b[1;31mKeyError\u001b[0m: 0"
     ]
    }
   ],
   "source": [
    "russia_daily_bollinger = bollinger_bands(russia, 20, 2)\n",
    "russia_daily_bollinger = add_signal(russia_daily_bollinger)\n",
    "plot_signals(russia_daily_bollinger, \"SBER\")"
   ]
  },
  {
   "cell_type": "code",
   "execution_count": 73,
   "metadata": {},
   "outputs": [],
   "source": [
    "russia_weekly_bollinger = bollinger_bands(russia_weekly, 20, 2)\n",
    "russia_weekly_bollinger = add_signal(russia_weekly_bollinger)"
   ]
  },
  {
   "cell_type": "code",
   "execution_count": 74,
   "metadata": {},
   "outputs": [
    {
     "data": {
      "image/png": "[encoded data removed]",
      "text/plain": [
       "<Figure size 1500x500 with 1 Axes>"
      ]
     },
     "metadata": {},
     "output_type": "display_data"
    },
    {
     "data": {
      "image/png": "[encoded data removed]",
      "text/plain": [
       "<Figure size 1500x500 with 1 Axes>"
      ]
     },
     "metadata": {},
     "output_type": "display_data"
    }
   ],
   "source": [
    "plot_signals(russia_weekly_bollinger, \"SBER\")"
   ]
  },
  {
   "cell_type": "markdown",
   "metadata": {},
   "source": [
    "From my understanding of BBands, when the Price hits the upper threshold we sell, when it hits the lower threshold we buy.\n",
    "\n",
    "Then we are holding during the periods where the price is inbetween the upper and lower BBand."
   ]
  },
  {
   "cell_type": "markdown",
   "metadata": {},
   "source": [
    "##### Time Series"
   ]
  },
  {
   "cell_type": "code",
   "execution_count": null,
   "metadata": {},
   "outputs": [],
   "source": [
    "# time series forecasting\n",
    "# use ADF to test for stationarity\n",
    "from statsmodels.tsa.stattools import adfuller\n",
    "def ADF_Stationarity_Test(time, alpha):\n",
    "    '''\n",
    "    Takes time series and alpha (significance level) and \n",
    "    prints the adfuller test result\n",
    "    print the conclusion of statonarity based on ADF\n",
    "    '''\n",
    "    result = adfuller(time['Price'])\n",
    "    print('ADF Statistic: %f' % result[0])\n",
    "    print('p-value: %f' % result[1])\n",
    "    for key, value in result[4].items():\n",
    "        print('Critial Values:')\n",
    "        print(f'   {key}, {value}')  \n",
    "    if result[1] > alpha:\n",
    "        print('We accept the null hypothesis, the time series has a unit root and is not stationary.')\n",
    "    else:\n",
    "        print('We reject the null hypothesis, the time series does not have a unit root and is stationary.')"
   ]
  },
  {
   "cell_type": "code",
   "execution_count": null,
   "metadata": {},
   "outputs": [
    {
     "name": "stdout",
     "output_type": "stream",
     "text": [
      "ADF Statistic: -1.423324\n",
      "p-value: 0.571045\n",
      "Critial Values:\n",
      "   1%, -3.4577787098622674\n",
      "Critial Values:\n",
      "   5%, -2.873608704758507\n",
      "Critial Values:\n",
      "   10%, -2.573201765981991\n",
      "We accept the null hypothesis, the time series has a unit root and is not stationary.\n"
     ]
    }
   ],
   "source": [
    "ADF_Stationarity_Test(russia, 0.05)"
   ]
  },
  {
   "cell_type": "code",
   "execution_count": null,
   "metadata": {},
   "outputs": [],
   "source": [
    "X = russia['Price']\n",
    "test_size = russia_test.shape[0]"
   ]
  },
  {
   "cell_type": "code",
   "execution_count": null,
   "metadata": {},
   "outputs": [
    {
     "name": "stdout",
     "output_type": "stream",
     "text": [
      "310       255\n",
      "309     253.9\n",
      "308    259.15\n",
      "307    257.99\n",
      "306    258.19\n",
      "        ...  \n",
      "65     269.32\n",
      "64     270.64\n",
      "63      274.7\n",
      "62        272\n",
      "61     271.65\n",
      "Name: Price, Length: 250, dtype: object\n"
     ]
    }
   ],
   "source": [
    "print(X)"
   ]
  },
  {
   "cell_type": "code",
   "execution_count": null,
   "metadata": {},
   "outputs": [
    {
     "data": {
      "text/plain": [
       "Date        2020-01-03 00:00:00\n",
       "Price                       255\n",
       "Open                     255.99\n",
       "High                     258.19\n",
       "Low                       253.7\n",
       "Vol.                 35850000.0\n",
       "Change %                  0.001\n",
       "Name: 310, dtype: object"
      ]
     },
     "execution_count": 55,
     "metadata": {},
     "output_type": "execute_result"
    }
   ],
   "source": [
    "russia.iloc[0]"
   ]
  },
  {
   "cell_type": "code",
   "execution_count": null,
   "metadata": {},
   "outputs": [
    {
     "data": {
      "text/plain": [
       "Date        2020-12-30 00:00:00\n",
       "Price                    271.65\n",
       "Open                     272.49\n",
       "High                     274.24\n",
       "Low                      270.12\n",
       "Vol.                 31530000.0\n",
       "Change %                -0.0013\n",
       "Name: 61, dtype: object"
      ]
     },
     "execution_count": 56,
     "metadata": {},
     "output_type": "execute_result"
    }
   ],
   "source": [
    "russia.iloc[-1]"
   ]
  },
  {
   "cell_type": "code",
   "execution_count": null,
   "metadata": {},
   "outputs": [
    {
     "name": "stdout",
     "output_type": "stream",
     "text": [
      "predicted=271.982294, expected=272.000000\n",
      "predicted=272.603643, expected=275.200000\n",
      "predicted=274.905086, expected=272.930000\n",
      "predicted=272.651366, expected=283.640000\n",
      "predicted=284.202923, expected=289.490000\n",
      "predicted=289.772735, expected=289.990000\n",
      "predicted=289.496573, expected=283.780000\n",
      "predicted=285.115995, expected=284.790000\n",
      "predicted=285.868785, expected=276.900000\n",
      "predicted=276.405247, expected=279.790000\n",
      "predicted=279.287082, expected=278.190000\n",
      "predicted=278.375577, expected=279.800000\n",
      "predicted=278.718417, expected=274.400000\n",
      "predicted=274.797687, expected=268.250000\n",
      "predicted=267.850684, expected=265.300000\n",
      "predicted=265.684114, expected=269.340000\n",
      "predicted=268.865852, expected=265.500000\n",
      "predicted=264.398627, expected=265.960000\n",
      "predicted=265.767378, expected=258.110000\n",
      "predicted=258.502564, expected=263.800000\n",
      "predicted=263.526587, expected=263.150000\n",
      "predicted=263.265655, expected=263.530000\n",
      "predicted=262.194241, expected=270.110000\n",
      "predicted=271.325019, expected=271.700000\n",
      "predicted=271.368261, expected=275.200000\n",
      "predicted=275.277237, expected=268.980000\n",
      "predicted=269.632752, expected=265.900000\n",
      "predicted=266.031549, expected=264.700000\n",
      "predicted=265.340413, expected=266.000000\n",
      "predicted=265.184724, expected=271.810000\n",
      "predicted=271.666300, expected=270.900000\n",
      "predicted=270.541235, expected=270.900000\n",
      "predicted=270.987792, expected=266.990000\n",
      "predicted=267.661726, expected=271.340000\n",
      "predicted=271.408500, expected=270.510000\n",
      "predicted=270.482267, expected=273.710000\n",
      "predicted=273.155523, expected=271.900000\n",
      "predicted=272.452027, expected=270.710000\n",
      "predicted=270.461224, expected=270.170000\n",
      "predicted=270.696538, expected=273.580000\n",
      "predicted=273.449912, expected=279.100000\n",
      "predicted=279.071030, expected=278.010000\n",
      "predicted=277.654182, expected=274.750000\n",
      "predicted=274.974565, expected=277.500000\n",
      "predicted=278.484810, expected=285.790000\n",
      "predicted=285.921936, expected=282.240000\n",
      "predicted=281.282523, expected=286.000000\n",
      "predicted=286.403864, expected=284.930000\n",
      "predicted=286.102875, expected=292.740000\n",
      "predicted=292.274022, expected=292.330000\n",
      "predicted=292.769225, expected=283.350000\n",
      "predicted=282.714032, expected=279.250000\n",
      "predicted=280.607002, expected=285.470000\n",
      "predicted=286.063190, expected=288.650000\n",
      "predicted=287.263550, expected=282.600000\n",
      "predicted=281.381919, expected=285.790000\n",
      "predicted=287.033767, expected=286.660000\n",
      "predicted=287.225212, expected=291.220000\n",
      "predicted=290.220885, expected=293.300000\n",
      "predicted=293.638889, expected=293.250000\n",
      "predicted=293.144076, expected=291.020000\n",
      "Test RMSE: 4.221\n"
     ]
    }
   ],
   "source": [
    "from statsmodels.tsa.arima.model import ARIMA\n",
    "import math\n",
    "from sklearn.metrics import mean_squared_error\n",
    "history = [x for x in X]\n",
    "predictions = list()\n",
    "# iteration step for each time point\n",
    "for time_point in range(test_size):\n",
    "\tmodel = ARIMA(history, order=(5,1,0))\n",
    "\tmodel_fit = model.fit()\n",
    "\toutput = model_fit.forecast()\n",
    "\tpredicted= output[0]\n",
    "\tpredictions.append(predicted)\n",
    "\tobs = russia_test.iloc[time_point]['Price']\n",
    "\thistory.append(obs)\n",
    "\tprint('predicted=%f, expected=%f' % (predicted, obs))\n",
    "# evaluate forecasts\n",
    "rmse = math.sqrt(mean_squared_error(russia_test['Price'], predictions))\n",
    "print('Test RMSE: %.3f' % rmse)"
   ]
  },
  {
   "cell_type": "code",
   "execution_count": null,
   "metadata": {},
   "outputs": [
    {
     "data": {
      "image/png": "[encoded data removed]",
      "text/plain": [
       "<Figure size 1500x500 with 1 Axes>"
      ]
     },
     "metadata": {},
     "output_type": "display_data"
    }
   ],
   "source": [
    "# plot forecasts against actual outcomes\n",
    "plt.figure(figsize=(15,5))\n",
    "plt.plot(russia['Date'], russia['Price'].values, label='training')\n",
    "plt.plot(russia_test['Date'], russia_test['Price'].values, label='expected')\n",
    "plt.plot(russia_test['Date'], predictions, color='red', linestyle='dashed', label='predicted')\n",
    "plt.xticks(rotation=45)\n",
    "plt.legend()\n",
    "plt.show()"
   ]
  },
  {
   "cell_type": "code",
   "execution_count": null,
   "metadata": {},
   "outputs": [],
   "source": []
  }
 ],
 "metadata": {
  "kernelspec": {
   "display_name": "THE_ONE",
   "language": "python",
   "name": "python3"
  },
  "language_info": {
   "codemirror_mode": {
    "name": "ipython",
    "version": 3
   },
   "file_extension": ".py",
   "mimetype": "text/x-python",
   "name": "python",
   "nbconvert_exporter": "python",
   "pygments_lexer": "ipython3",
   "version": "3.8.13"
  }
 },
 "nbformat": 4,
 "nbformat_minor": 2
}
